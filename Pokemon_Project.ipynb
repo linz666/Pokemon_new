{
 "cells": [
  {
   "cell_type": "markdown",
   "metadata": {
    "collapsed": false
   },
   "source": [
    "In this project, you will make a simplified Pokémon game. Here are some things to know about Pokémon:\n",
    "    \n",
    "Pokémon have different types. Here are the 18 types: "
   ]
  },
  {
   "cell_type": "code",
   "execution_count": 1,
   "metadata": {
    "collapsed": false
   },
   "outputs": [
   ],
   "source": [
    "TYPES = [\n",
    "    'Normal',\n",
    "    'Fight',\n",
    "    'Flying',\n",
    "    'Poison',\n",
    "    'Ground',\n",
    "    'Rock',\n",
    "    'Bug',\n",
    "    'Ghost',\n",
    "    'Steel',\n",
    "    'Fire',\n",
    "    'Water',\n",
    "    'Grass',\n",
    "    'Electric',\n",
    "    'Psychic',\n",
    "    'Ice',\n",
    "    'Dragon',\n",
    "    'Dark',\n",
    "    'Fairy'\n",
    "]"
   ]
  },
  {
   "cell_type": "markdown",
   "metadata": {
    "collapsed": false
   },
   "source": [
    "For example, Bulbasaur is a grass and poison type, Charmander is a fire type, and Squirtle is a water type. Below are 14 examples of Pokémon characters and their types:"
   ]
  },
  {
   "cell_type": "code",
   "execution_count": 2,
   "metadata": {
    "collapsed": false
   },
   "outputs": [
   ],
   "source": [
    "CHARACTERS = {\n",
    "    'Pikachu': ['Electric'],\n",
    "    'Charizard': ['Fire', 'Flying'],\n",
    "    'Squirtle': ['Water'],\n",
    "    'Jigglypuff': ['Normal', 'Fairy'],\n",
    "    'Gengar': ['Ghost', 'Poison'],\n",
    "    'Magnemite': ['Electric', 'Steel'],\n",
    "    'Bulbasaur': ['Grass', 'Poison'],\n",
    "    'Charmander': ['Fire'],\n",
    "    'Beedrill': ['Bug', 'Poison'],\n",
    "    'Golem': ['Rock', 'Ground'],\n",
    "    'Dewgong': ['Water', 'Ice'],\n",
    "    'Hypno': ['Psychic'],\n",
    "    'Cleffa': ['Fairy'],\n",
    "    'Cutiefly': ['Fairy', 'Bug']\n",
    "}"
   ]
  },
  {
   "cell_type": "markdown",
   "metadata": {
    "collapsed": false
   },
   "source": [
    "Consider the following events:\n",
    "\n",
    "The Pokémon battle starts.\n",
    "\n",
    "One Pokémon attacks its target.\n",
    "\n",
    "The target loses HP (hit points) and attacks back.\n",
    "\n",
    "The first one to 0 HP loses.\n",
    "\n",
    "Hit points determine how much damage a Pokémon can take. For example, Pikachu can take 35 hit points before it faints.\n",
    "\n",
    "Here are the hit points that everyone starts with:\n"
   ]
  },
  {
   "cell_type": "code",
   "execution_count": 3,
   "metadata": {
    "collapsed": false
   },
   "outputs": [
   ],
   "source": [
    "HIT_POINTS = {\n",
    "    'Pikachu': 35,\n",
    "    'Charizard': 78,\n",
    "    'Squirtle': 44,\n",
    "    'Jigglypuff': 115,\n",
    "    'Gengar': 60 ,\n",
    "    'Magnemite': 25,\n",
    "    'Bulbasaur': 45,\n",
    "    'Charmander': 39,\n",
    "    'Beedrill': 65,\n",
    "    'Golem': 80,\n",
    "    'Dewgong': 90,\n",
    "    'Hypno': 85,\n",
    "    'Cleffa': 50,\n",
    "    'Cutiefly': 40\n",
    "}"
   ]
  },
  {
   "cell_type": "markdown",
   "metadata": {
    "collapsed": false
   },
   "source": [
    "Each Pokémon has a list of possible attack moves that they can make. For example, Gengar and Hypno can both do a Dream Eater move. Here are some of their attack moves:"
   ]
  },
  {
   "cell_type": "code",
   "execution_count": 4,
   "metadata": {
    "collapsed": false
   },
   "outputs": [
   ],
   "source": [
    "ATTACKS = {\n",
    "    'Pikachu': ['Thunder Shock',  'Double Kick', 'Thunderbolt'],\n",
    "    'Charizard': [ 'Crunch', 'Ember', 'Scratch', 'Wing Attack'],\n",
    "    'Squirtle': ['Tackle',  'Bubble', 'Bite'],\n",
    "    'Jigglypuff': ['Pound', 'Body Slam', 'Double Slap'],\n",
    "    'Gengar': ['Lick', 'Smog', 'Dream Eater', 'Shadow Ball'],\n",
    "    'Magnemite': [ 'Tackle', 'Flash Cannon', 'Thunder Shock', 'Thunderbolt'],\n",
    "    'Bulbasaur': ['Tackle', 'Vine Whip', 'Razor Leaf'],\n",
    "    'Charmander': ['Scratch', 'Ember', 'Fire Spin'],\n",
    "    'Beedrill': ['Peck', 'Twineedle', 'Rage', 'Fury Attack', 'Outrage'],\n",
    "    'Golem': [ 'Tackle', 'Rock Throw', 'Rock Slide', 'Earthquake'],\n",
    "    'Dewgong': ['Aqua Jet',  'Ice Shard', 'Headbutt'],\n",
    "    'Hypno': ['Pound', 'Confusion', 'Dream Eater'],\n",
    "    'Cleffa': [ 'Pound', 'Magical Leaf'],\n",
    "    'Cutiefly': ['Absorb', 'Fairy Wind', 'Struggle Bug', 'Draining Kiss']\n",
    "    \n",
    "}"
   ]
  },
  {
   "cell_type": "markdown",
   "metadata": {
    "collapsed": false
   },
   "source": [
    "Each move has a type. For example, Gengar (a ghost/poison type) and Hypno (a psychic type) can both do a Dream Eater move (a psychic move). Here are the moves characterized by type:"
   ]
  },
  {
   "cell_type": "code",
   "execution_count": 5,
   "metadata": {
    "collapsed": false
   },
   "outputs": [
   ],
   "source": [
    "MOVES = {\n",
    "    \"Normal\" : [ 'Scratch', 'Tackle',  'Pound', 'Rage', 'Fury Attack', 'Body Slam', 'Double Slap', 'Headbutt'] ,\n",
    "    \"Fire\" : ['Ember', 'Fire Spin'],\n",
    "    \"Water\" : ['Bubble', 'Aqua Jet'],\n",
    "    \"Electric\" : ['Thunder Shock', 'Thunderbolt'],\n",
    "    \"Grass\" : ['Vine Whip', 'Magical Leaf', 'Razor Leaf', 'Absorb'],\n",
    "    \"Ice\" : ['Ice Shard'],\n",
    "    \"Fighting\" : ['Double Kick'],\n",
    "    \"Poison\" : ['Smog'],\n",
    "    \"Ground\" : ['Earthquake'],\n",
    "    \"Flying\" : ['Wing Attack', 'Peck'],\n",
    "    \"Psychic\" : ['Confusion', 'Dream Eater'] ,\n",
    "    \"Bug\" : ['Twineedle', 'Struggle Bug'],\n",
    "    \"Rock\" : ['Rock Throw', 'Rock Slide'],\n",
    "    \"Ghost\" : ['Lick', 'Shadow Ball'] ,\n",
    "    \"Dragon\" : ['Outrage'],\n",
    "    \"Dark\" : ['Crunch', 'Bite'],\n",
    "    \"Steel\" : ['Flash Cannon'],\n",
    "    \"Fairy\" : ['Fairy Wind', 'Draining Kiss']\n",
    "}"
   ]
  },
  {
   "cell_type": "markdown",
   "metadata": {
    "collapsed": false
   },
   "source": [
    "Pokémon types dictate whether one Pokémon's attack is strong or weak (i.e., super effective or not very effective) against another, dealing additional or reduced damage as a result. For example, a Fire type attack is strong against Bug, Steel, Grass, and Ice types, and weak against Rock Fire, Water, and Dragon types. Thus, if you choose Charmander as your Pokémon, which is a Fire type, then you are strong against Bug, Steel, Grass, and Ice attack types, and weak against Rock Fire, Water, and Dragon attack types.\n",
    "\n",
    "If your attack is a weakness of your opponent, then your attack is \"super effective\", and inflicts 2 times the typical damage done. If your attack is one of your opponent's strengths, then your attack is \"not very effective\", and delivers half the typical amount of damage done. If your attack is not a weakness or strength of the opponent, then you do a standard amount of damage (1x).\n",
    "\n",
    "For example, if you choose to use Charmander's Fire Spin (a fire type move), which is super effective against Bulbasaur (a grass type), it will cause double damage to Bulbasaur.\n",
    "\n",
    "Here is a chart:\n",
    "![title](Pokemon_images/types.png)\n",
    "\n",
    "In the dictionaries below, the key is the type of attack and the values are the Pokémon types that the attack is super effective or not very effective against."
   ]
  },
  {
   "cell_type": "code",
   "execution_count": 6,
   "metadata": {
    "collapsed": false
   },
   "outputs": [
   ],
   "source": [
    "SUPER_EFFECTIVE = {\n",
    "    \"Normal\" : [\"N/A\"],\n",
    "    \"Fire\" : [\"Grass\", \"Ice\", \"Bug\", \"Steel\"],\n",
    "    \"Water\" : [\"Fire\", \"Ground\", \"Rock\"],\n",
    "    \"Electric\" : [\"Water\", \"Flying\"],\n",
    "    \"Grass\" : [\"Water\", \"Ground\", \"Rock\"],\n",
    "    \"Ice\" : [\"Grass\", \"Ground\", \"Flying\", \"Dragon\"],\n",
    "    \"Fighting\" : [\"Normal\", \"Ice\", \"Rock\", \"Dark\", \"Steel\"],\n",
    "    \"Poison\" : [\"Grass\", \"Fairy\"],\n",
    "    \"Ground\" : [\"Fire\", \"Electric\", \"Poison\", \"Rock\", \"Steel\"],\n",
    "    \"Flying\" : [\"Grass\", \"Fighting\", \"Bug\"],\n",
    "    \"Psychic\" : [\"Fighting\", \"Poison\"],\n",
    "    \"Bug\" : [\"Grass\", \"Psychic\", \"Dark\"],\n",
    "    \"Rock\" : [\"Fire\", \"Ice\", \"Flying\", \"Bug\"],\n",
    "    \"Ghost\" : [\"Psychic\", \"Ghost\"],\n",
    "    \"Dragon\" : [\"Dragon\"],\n",
    "    \"Dark\" : [\"Psychic\", \"Ghost\"],\n",
    "    \"Steel\" : [\"Ice\", \"Rock\", \"Fairy\"],\n",
    "    \"Fairy\" : [\"Fighting\", \"Dragon\", \"Dark\"]\n",
    "}\n",
    "\n",
    "NOT_VERY_EFFECTIVE = {\n",
    "    \"Normal\" : [\"Rock\", \"Steel\"],\n",
    "    \"Fire\" : [\"Fire\", \"Water\", \"Rock\", \"Dragon\"],\n",
    "    \"Water\" : [\"Water\", \"Grass\", \"Dragon\"],\n",
    "    \"Electric\" : [\"Electric\", \"Grass\", \"Dragon\"],\n",
    "    \"Grass\" : [\"Fire\", \"Grass\", \"Poison\", \"Flying\", \"Bug\", \"Dragon\", \"Steel\"],\n",
    "    \"Ice\" : [\"Fire\", \"Water\", \"Ice\", \"Steel\"],\n",
    "    \"Fighting\" : [\"Poison\", \"Flying\", \"Psychic\", \"Bug\", \"Fairy\"],\n",
    "    \"Poison\" : [\"Poison\", \"Ground\", \"Rock\", \"Ghost\"],\n",
    "    \"Ground\" : [\"Grass\", \"Bug\"],\n",
    "    \"Flying\" : [\"Electric\", \"Rock\", \"Steel\"],\n",
    "    \"Psychic\" : [\"Psychic\", \"Steel\"],\n",
    "    \"Bug\" : [\"Fire\", \"Fighting\", \"Poison\", \"Flying\", \"Ghost\", \"Steel\", \"Fairy\"],\n",
    "    \"Rock\" : [\"Fighting\", \"Ground\", \"Steel\"],\n",
    "    \"Ghost\" : [\"Dark\"],\n",
    "    \"Dragon\" : [\"Steel\"],\n",
    "    \"Dark\" : [\"Fighting\", \"Dark\", \"Fairy\"],\n",
    "    \"Steel\" : [\"Fire\", \"Water\", \"Electric\", \"Steel\"],\n",
    "    \"Fairy\" : [\"Fire\", \"Poison\", \"Steel\"]\n",
    "}\n"
   ]
  },
  {
   "cell_type": "markdown",
   "metadata": {
    "collapsed": true
   },
   "source": [
    "Okay, so we know that certain types of attacks do half, standard, or double damage, but how do we actually calculate the damage? Well, damage depends partly on how much power each move has. Below is the power of each type of attack:"
   ]
  },
  {
   "cell_type": "code",
   "execution_count": 7,
   "metadata": {
    "collapsed": false
   },
   "outputs": [
   ],
   "source": [
    "POWERS = {\n",
    "    'Scratch': 40,\n",
    "    'Tackle': 40,\n",
    "    'Pound': 40,\n",
    "    'Rage': 20,\n",
    "    'Fury Attack': 15,\n",
    "    'Ember': 40,\n",
    "    'Fire Spin': 35,\n",
    "    'Bubble': 40, \n",
    "    'Aqua Jet': 40,\n",
    "    'Thunder Shock': 40,\n",
    "    'Thunderbolt': 90,\n",
    "    'Vine Whip': 45,\n",
    "    'Magical Leaf': 60,\n",
    "    'Ice Shard': 40,\n",
    "    'Double Kick': 30,\n",
    "    'Earthquake': 100,\n",
    "    'Wing Attack': 60,\n",
    "    'Peck': 35,\n",
    "    'Confusion': 50,\n",
    "    'Twineedle': 25,\n",
    "    'Rock Throw': 50,\n",
    "    'Rock Slide': 75,\n",
    "    'Lick': 30,\n",
    "    'Outrage': 120,\n",
    "    'Crunch': 80,\n",
    "    'Bite': 60,\n",
    "    'Flash Cannon': 80,\n",
    "    'Smog': 30,\n",
    "    'Dream Eater': 100,\n",
    "    'Body Slam': 85,\n",
    "    'Double Slap': 15,\n",
    "    'Razor Leaf': 55,\n",
    "    'Headbutt': 70,\n",
    "    'Absorb': 20, \n",
    "    'Fairy Wind': 40, \n",
    "    'Struggle Bug': 50, \n",
    "    'Draining Kiss': 50,\n",
    "    'Shadow Ball': 80\n",
    "}"
   ]
  },
  {
   "cell_type": "markdown",
   "metadata": {
    "collapsed": false
   },
   "source": [
    "Putting together all of the info about moves into a single dictionary, we have:"
   ]
  },
  {
   "cell_type": "code",
   "execution_count": 8,
   "metadata": {
    "collapsed": false
   },
   "outputs": [
   ],
   "source": [
    "MOVES_DICTIONARY = {\n",
    "    'Scratch': \n",
    "    {\n",
    "        'name': 'Scratch',\n",
    "        'power': 40, \n",
    "        'type': 'Normal', \n",
    "        'super effective against': ['N/A'], \n",
    "        'not very effective against': ['Rock', 'Steel']\n",
    "    }, \n",
    "    'Tackle': \n",
    "    {\n",
    "        'name': 'Tackle',\n",
    "        'power': 40, \n",
    "        'type': 'Normal', \n",
    "        'super effective against': ['N/A'], \n",
    "        'not very effective against': ['Rock', 'Steel']\n",
    "    }, \n",
    "    'Pound': {'name': 'Pound', 'power': 40, 'type': 'Normal', 'super effective against': ['N/A'], 'not very effective against': ['Rock', 'Steel']}, \n",
    "    'Rage': {'name': 'Rage', 'power': 20, 'type': 'Normal', 'super effective against': ['N/A'], 'not very effective against': ['Rock', 'Steel']}, \n",
    "    'Fury Attack': {'name': 'Fury Attack', 'power': 15, 'type': 'Normal', 'super effective against': ['N/A'], 'not very effective against': ['Rock', 'Steel']}, \n",
    "    'Ember': {'name': 'Ember', 'power': 40, 'type': 'Fire', 'super effective against': ['Grass', 'Ice', 'Bug', 'Steel'], 'not very effective against': ['Fire', 'Water', 'Rock', 'Dragon']}, \n",
    "    'Fire Spin': {'name': 'Fire Spin', 'power': 35, 'type': 'Fire', 'super effective against': ['Grass', 'Ice', 'Bug', 'Steel'], 'not very effective against': ['Fire', 'Water', 'Rock', 'Dragon']}, \n",
    "    'Bubble': {'name': 'Bubble', 'power': 40, 'type': 'Water', 'super effective against': ['Fire', 'Ground', 'Rock'], 'not very effective against': ['Water', 'Grass', 'Dragon']}, \n",
    "    'Aqua Jet': {'name': 'Aqua Jet', 'power': 40, 'type': 'Water', 'super effective against': ['Fire', 'Ground', 'Rock'], 'not very effective against': ['Water', 'Grass', 'Dragon']}, \n",
    "    'Thunder Shock': {'name': 'Thunder Shock', 'power': 40, 'type': 'Electric', 'super effective against': ['Water', 'Flying'], 'not very effective against': ['Electric', 'Grass', 'Dragon']}, \n",
    "    'Thunderbolt': {'name': 'Thunderbolt', 'power': 90, 'type': 'Electric', 'super effective against': ['Water', 'Flying'], 'not very effective against': ['Electric', 'Grass', 'Dragon']}, \n",
    "    'Vine Whip': {'name': 'Vine Whip', 'power': 45, 'type': 'Grass', 'super effective against': ['Water', 'Ground', 'Rock'], 'not very effective against': ['Fire', 'Grass', 'Poison', 'Flying', 'Bug', 'Dragon', 'Steel']}, \n",
    "    'Magical Leaf': {'name': 'Magical Leaf', 'power': 60, 'type': 'Grass', 'super effective against': ['Water', 'Ground', 'Rock'], 'not very effective against': ['Fire', 'Grass', 'Poison', 'Flying', 'Bug', 'Dragon', 'Steel']}, \n",
    "    'Ice Shard': {'name': 'Ice Shard', 'power': 40, 'type': 'Ice', 'super effective against': ['Grass', 'Ground', 'Flying', 'Dragon'], 'not very effective against': ['Fire', 'Water', 'Ice', 'Steel']}, \n",
    "    'Double Kick': {'name': 'Double Kick', 'power': 30, 'type': 'Fighting', 'super effective against': ['Normal', 'Ice', 'Rock', 'Dark', 'Steel'], 'not very effective against': ['Poison', 'Flying', 'Psychic', 'Bug', 'Fairy']}, \n",
    "    'Earthquake': {'name': 'Earthquake', 'power': 100, 'type': 'Ground', 'super effective against': ['Fire', 'Electric', 'Poison', 'Rock', 'Steel'], 'not very effective against': ['Grass', 'Bug']}, \n",
    "    'Wing Attack': {'name': 'Wing Attack', 'power': 60, 'type': 'Flying', 'super effective against': ['Grass', 'Fighting', 'Bug'], 'not very effective against': ['Electric', 'Rock', 'Steel']}, \n",
    "    'Peck': {'name': 'Peck', 'power': 35, 'type': 'Flying', 'super effective against': ['Grass', 'Fighting', 'Bug'], 'not very effective against': ['Electric', 'Rock', 'Steel']}, \n",
    "    'Confusion': {'name': 'Confusion', 'power': 50, 'type': 'Psychic', 'super effective against': ['Fighting', 'Poison'], 'not very effective against': ['Psychic', 'Steel']}, \n",
    "    'Twineedle': {'name': 'Twineedle', 'power': 25, 'type': 'Bug', 'super effective against': ['Grass', 'Psychic', 'Dark'], 'not very effective against': ['Fire', 'Fighting', 'Poison', 'Flying', 'Ghost', 'Steel', 'Fairy']}, \n",
    "    'Rock Throw': {'name': 'Rock Throw', 'power': 50, 'type': 'Rock', 'super effective against': ['Fire', 'Ice', 'Flying', 'Bug'], 'not very effective against': ['Fighting', 'Ground', 'Steel']}, \n",
    "    'Rock Slide': {'name': 'Rock Slide', 'power': 75, 'type': 'Rock', 'super effective against': ['Fire', 'Ice', 'Flying', 'Bug'], 'not very effective against': ['Fighting', 'Ground', 'Steel']}, \n",
    "    'Lick': {'name': 'Lick', 'power': 30, 'type': 'Ghost', 'super effective against': ['Psychic', 'Ghost'], 'not very effective against': ['Dark']}, \n",
    "    'Outrage': {'name': 'Outrage', 'power': 120, 'type': 'Dragon', 'super effective against': ['Dragon'], 'not very effective against': ['Steel']}, \n",
    "    'Crunch': {'name': 'Crunch', 'power': 80, 'type': 'Dark', 'super effective against': ['Psychic', 'Ghost'], 'not very effective against': ['Fighting', 'Dark', 'Fairy']}, \n",
    "    'Bite': {'name': 'Bite', 'power': 60, 'type': 'Dark', 'super effective against': ['Psychic', 'Ghost'], 'not very effective against': ['Fighting', 'Dark', 'Fairy']}, \n",
    "    'Flash Cannon': {'name': 'Flash Cannon', 'power': 80, 'type': 'Steel', 'super effective against': ['Ice', 'Rock', 'Fairy'], 'not very effective against': ['Fire', 'Water', 'Electric', 'Steel']}, \n",
    "    'Smog': {'name': 'Smog', 'power': 30, 'type': 'Poison', 'super effective against': ['Grass', 'Fairy'], 'not very effective against': ['Poison', 'Ground', 'Rock', 'Ghost']}, \n",
    "    'Dream Eater': {'name': 'Dream Eater', 'power': 100, 'type': 'Psychic', 'super effective against': ['Fighting', 'Poison'], 'not very effective against': ['Psychic', 'Steel']}, \n",
    "    'Body Slam': {'name': 'Body Slam', 'power': 85, 'type': 'Normal', 'super effective against': ['N/A'], 'not very effective against': ['Rock', 'Steel']}, \n",
    "    'Double Slap': {'name': 'Double Slap', 'power': 15, 'type': 'Normal', 'super effective against': ['N/A'], 'not very effective against': ['Rock', 'Steel']}, \n",
    "    'Razor Leaf': {'name': 'Razor Leaf', 'power': 55, 'type': 'Grass', 'super effective against': ['Water', 'Ground', 'Rock'], 'not very effective against': ['Fire', 'Grass', 'Poison', 'Flying', 'Bug', 'Dragon', 'Steel']}, \n",
    "    'Headbutt': {'name': 'Headbutt', 'power': 70, 'type': 'Normal', 'super effective against': ['N/A'], 'not very effective against': ['Rock', 'Steel']}, \n",
    "    'Absorb': {'name': 'Absorb', 'power': 20, 'type': 'Grass', 'super effective against': ['Water', 'Ground', 'Rock'], 'not very effective against': ['Fire', 'Grass', 'Poison', 'Flying', 'Bug', 'Dragon', 'Steel']}, \n",
    "    'Fairy Wind': {'name': 'Fairy Wind', 'power': 40, 'type': 'Fairy', 'super effective against': ['Fighting', 'Dragon', 'Dark'], 'not very effective against': ['Fire', 'Poison', 'Steel']}, \n",
    "    'Struggle Bug': {'name': 'Struggle Bug', 'power': 50, 'type': 'Bug', 'super effective against': ['Grass', 'Psychic', 'Dark'], 'not very effective against': ['Fire', 'Fighting', 'Poison', 'Flying', 'Ghost', 'Steel', 'Fairy']}, \n",
    "    'Draining Kiss': {'name': 'Draining Kiss', 'power': 50, 'type': 'Fairy', 'super effective against': ['Fighting', 'Dragon', 'Dark'], 'not very effective against': ['Fire', 'Poison', 'Steel']}, \n",
    "    'Shadow Ball': {'name': 'Shadow Ball', 'power': 80, 'type': 'Ghost', 'super effective against': ['Psychic', 'Ghost'], 'not very effective against': ['Dark']}\n",
    "}"
   ]
  },
  {
   "cell_type": "markdown",
   "metadata": {
    "collapsed": false
   },
   "source": [
    "How is damage actually calculated? According to this pretty complicated formula from this website https://bulbapedia.bulbagarden.net/wiki/Damage#Damage_calculation :\n",
    "\n",
    "$$Damage=(\\frac{(\\frac{2 \\times Level}{5}+2) \\times Power \\times \\frac{A}{D}}{50}) \\times Modifier$$\n",
    "\n",
    "Let's simplify this a bit by assuming that all Pokémon are on Level 50 temporarily:\n",
    "\n",
    "$$Damage=(\\frac{22 \\times Power \\times \\frac{A}{D}}{50}) \\times Modifier$$\n",
    "\n",
    "What are A and D? A is the effective Attack stat of the attacking Pokémon and D is the is the effective Defense stat of the defending Pokémon. This info for each Pokémon is listed below:"
   ]
  },
  {
   "cell_type": "code",
   "execution_count": 9,
   "metadata": {
    "collapsed": false
   },
   "outputs": [
   ],
   "source": [
    "STATS = {\n",
    "    'Pikachu': {'Attack': 55, 'Defense': 40},\n",
    "    'Charizard': {'Attack': 84, 'Defense': 78},\n",
    "    'Squirtle': {'Attack': 48, 'Defense': 65},\n",
    "    'Jigglypuff': {'Attack': 45, 'Defense': 20},\n",
    "    'Gengar': {'Attack': 65, 'Defense': 60},\n",
    "    'Magnemite': {'Attack': 35, 'Defense': 70},\n",
    "    'Bulbasaur': {'Attack': 49, 'Defense': 49},\n",
    "    'Charmander': {'Attack': 52, 'Defense': 43},\n",
    "    'Beedrill': {'Attack': 90, 'Defense': 40},\n",
    "    'Golem': {'Attack': 120, 'Defense': 130},\n",
    "    'Dewgong': {'Attack': 70, 'Defense': 80},\n",
    "    'Hypno': {'Attack': 73, 'Defense': 70},\n",
    "    'Cleffa': {'Attack': 25, 'Defense': 28},\n",
    "    'Cutiefly': {'Attack': 45, 'Defense': 40},\n",
    "}"
   ]
  },
  {
   "cell_type": "markdown",
   "metadata": {
    "collapsed": false
   },
   "source": [
    "Actually, let's put all Pokémon data into one dictionary for simplicity:"
   ]
  },
  {
   "cell_type": "code",
   "execution_count": 10,
   "metadata": {
    "collapsed": false
   },
   "outputs": [
   ],
   "source": [
    "POKEMONS = {\n",
    "    'Pikachu': {'Type': ['Electric'], 'HP': 35, 'Moves': ['Thunder Shock',  'Double Kick', 'Thunderbolt'], 'Attack': 55, 'Defense': 40},\n",
    "    'Charizard': {'Type': ['Fire', 'Flying'], 'HP': 78, 'Moves': [ 'Crunch', 'Ember', 'Scratch', 'Wing Attack'], 'Attack': 84, 'Defense': 78},\n",
    "    'Squirtle': {'Type': ['Water'], 'HP': 44, 'Moves': ['Tackle',  'Bubble', 'Bite'], 'Attack': 48, 'Defense': 65},\n",
    "    'Jigglypuff': {'Type': ['Normal', 'Fairy'], 'HP': 115, 'Moves': ['Pound', 'Body Slam', 'Double Slap'], 'Attack': 45, 'Defense': 20},\n",
    "    'Gengar': {'Type': ['Ghost', 'Poison'], 'HP': 60, 'Moves': ['Lick', 'Smog', 'Dream Eater', 'Shadow Ball'], 'Attack': 65, 'Defense': 60},\n",
    "    'Magnemite': {'Type': ['Electric', 'Steel'], 'HP': 25, 'Moves': [ 'Tackle', 'Flash Cannon', 'Thunder Shock', 'Thunderbolt'],  'Attack': 35, 'Defense': 70},\n",
    "    'Bulbasaur': {'Type': ['Grass', 'Poison'], 'HP': 45, 'Moves': ['Tackle', 'Vine Whip', 'Razor Leaf'], 'Attack': 49, 'Defense': 49},\n",
    "    'Charmander': {'Type': ['Fire'], 'HP': 39, 'Moves': ['Scratch', 'Ember', 'Fire Spin'], 'Attack': 52, 'Defense': 43},\n",
    "    'Beedrill': {'Type': ['Bug', 'Poison'], 'HP': 65, 'Moves': ['Peck', 'Twineedle', 'Rage', 'Fury Attack', 'Outrage'], 'Attack': 90, 'Defense': 40},\n",
    "    'Golem': {'Type': ['Rock', 'Ground'], 'HP': 80, 'Moves': [ 'Tackle', 'Rock Throw', 'Rock Slide', 'Earthquake'], 'Attack': 120, 'Defense': 130},\n",
    "    'Dewgong': {'Type': ['Water', 'Ice'], 'HP': 90, 'Moves': ['Aqua Jet',  'Ice Shard', 'Headbutt'], 'Attack': 70, 'Defense': 80},\n",
    "    'Hypno': {'Type': ['Psychic'],'HP': 85, 'Moves': ['Pound', 'Confusion', 'Dream Eater'], 'Attack': 73, 'Defense': 70},\n",
    "    'Cleffa': {'Type': ['Fairy'], 'HP': 50, 'Moves': [ 'Pound', 'Magical Leaf'], 'Attack': 25, 'Defense': 28},\n",
    "    'Cutiefly': {'Type': ['Fairy', 'Bug'], 'HP': 40, 'Moves': ['Absorb', 'Fairy Wind', 'Struggle Bug', 'Draining Kiss'], 'Attack': 45, 'Defense': 40}\n",
    "}\n",
    "\n"
   ]
  },
  {
   "cell_type": "markdown",
   "metadata": {
    "collapsed": false
   },
   "source": [
    "What is the modifier in the damage formula above? Our simplified modifier will be:\n",
    "\n",
    "$$ Modifier = Critical \\times Random \\times Type $$\n",
    "\n",
    "**Random** is a random integer percentage between 0.85 and 1.00 (inclusive).\n",
    "\n",
    "Recall that **Type** can be 0.5 (not very effective), 1 (normally effective), or 2 (super effective), depending on how effective the move's type is against the defending Pokémon's type.\n",
    "\n",
    "Actually, the type can also take on the values ¼ and 4. For targets that have two types (every Pokémon is either one or two types ), such as Bulbasaur, who is both a Grass and Poison type, overall type effectiveness is the product of the effectiveness against each of its types:\n",
    "\n",
    "&nbsp;&nbsp;&nbsp;&nbsp;&nbsp;&nbsp;-If the type of a move is super effective against both of the opponent's types (such as Dig, a Ground-type move, used against an Aggron, a Steel/Rock Pokémon), then the move does 2x2=4 times the damage;\n",
    "\n",
    "&nbsp;&nbsp;&nbsp;&nbsp;&nbsp;&nbsp;-If the type of a move is not very effective against both of the opponent's types (such as Wake-Up Slap, a Fighting-type move, used against a Sigilyph, a Psychic/Flying Pokémon), then the move only does 1/2x1/2=¼ of the damage;\n",
    "\n",
    "&nbsp;&nbsp;&nbsp;&nbsp;&nbsp;&nbsp;-If the type of a move is super effective against one of the opponent's types but not very effective against the other (such as Razor Leaf, a Grass-type move, used against a Gyarados, a Water/Flying Pokémon), then the move deals normal damage 2x1/2=1;\n",
    "\n",
    "**Critical** is 2 if you have landed a critical hit and 1 otherwise. What is a critical hit? This is of the one last things to understand. A critical hit is a random event that multiplies the damage of a damage-dealing move. When one occurs, the game will display the message \"A critical hit!\" after the damage has been dealt. \n",
    "\n",
    "How does one calculate the probability that the attack was critical? The probability that an attacking Pokémon landed a critical hit based on that attacking Pokémon's speed is: $$ P = Speed / 512 $$\n",
    "\n",
    "Thus, one can generate a random  number between 0 and 511 and if that number is less than the attacking Pokémon's speed then Critical=2.\n",
    "\n",
    "Therefore, there will be TWO different random components to our damage calculation, represented by Random and Critical in the formulas above, and we'll need to add another attribute, speed, to our Pokémon dictionary:\n"
   ]
  },
  {
   "cell_type": "code",
   "execution_count": 11,
   "metadata": {
    "collapsed": false
   },
   "outputs": [
   ],
   "source": [
    "POKEMONS = {\n",
    "    'Pikachu': {'Type': ['Electric'], 'HP': 35, 'Moves': ['Thunder Shock',  'Double Kick', 'Thunderbolt'], 'Attack': 55, 'Defense': 40, 'Speed': 90},\n",
    "    'Charizard': {'Type': ['Fire', 'Flying'], 'HP': 78, 'Moves': [ 'Crunch', 'Ember', 'Scratch', 'Wing Attack'], 'Attack': 84, 'Defense': 78, 'Speed': 100},\n",
    "    'Squirtle': {'Type': ['Water'], 'HP': 44, 'Moves': ['Tackle',  'Bubble', 'Bite'], 'Attack': 48, 'Defense': 65, 'Speed': 43},\n",
    "    'Jigglypuff': {'Type': ['Normal', 'Fairy'], 'HP': 115, 'Moves': ['Pound', 'Body Slam', 'Double Slap'], 'Attack': 45, 'Defense': 20, 'Speed': 20},\n",
    "    'Gengar': {'Type': ['Ghost', 'Poison'], 'HP': 60, 'Moves': ['Lick', 'Smog', 'Dream Eater', 'Shadow Ball'], 'Attack': 65, 'Defense': 60, 'Speed': 110},\n",
    "    'Magnemite': {'Type': ['Electric', 'Steel'], 'HP': 25, 'Moves': [ 'Tackle', 'Flash Cannon', 'Thunder Shock', 'Thunderbolt'],  'Attack': 35, 'Defense': 70, 'Speed': 45},\n",
    "    'Bulbasaur': {'Type': ['Grass', 'Poison'], 'HP': 45, 'Moves': ['Tackle', 'Vine Whip', 'Razor Leaf'], 'Attack': 49, 'Defense': 49, 'Speed': 45},\n",
    "    'Charmander': {'Type': ['Fire'], 'HP': 39, 'Moves': ['Scratch', 'Ember', 'Fire Spin'], 'Attack': 52, 'Defense': 43, 'Speed': 65},\n",
    "    'Beedrill': {'Type': ['Bug', 'Poison'], 'HP': 65, 'Moves': ['Peck', 'Twineedle', 'Rage', 'Fury Attack', 'Outrage'], 'Attack': 90, 'Defense': 40, 'Speed': 75},\n",
    "    'Golem': {'Type': ['Rock', 'Ground'], 'HP': 80, 'Moves': [ 'Tackle', 'Rock Throw', 'Rock Slide', 'Earthquake'], 'Attack': 120, 'Defense': 130, 'Speed': 45},\n",
    "    'Dewgong': {'Type': ['Water', 'Ice'], 'HP': 90, 'Moves': ['Aqua Jet',  'Ice Shard', 'Headbutt'], 'Attack': 70, 'Defense': 80, 'Speed': 70},\n",
    "    'Hypno': {'Type': ['Psychic'],'HP': 85, 'Moves': ['Pound', 'Confusion', 'Dream Eater'], 'Attack': 73, 'Defense': 70, 'Speed': 67},\n",
    "    'Cleffa': {'Type': ['Fairy'], 'HP': 50, 'Moves': [ 'Pound', 'Magical Leaf'], 'Attack': 25, 'Defense': 28, 'Speed': 15},\n",
    "    'Cutiefly': {'Type': ['Fairy', 'Bug'], 'HP': 40, 'Moves': ['Absorb', 'Fairy Wind', 'Struggle Bug', 'Draining Kiss'], 'Attack': 45, 'Defense': 40, 'Speed': 84}\n",
    "}\n"
   ]
  },
  {
   "cell_type": "markdown",
   "metadata": {
    "collapsed": false
   },
   "source": [
    "Now let's return to levels. When a Pokémon beats another Pokémon, he gains their experience points. With enough experience points, the Pokémon achieves the next level. Levels go from 1 to 100. When a player just starts out, they have 0 experience points and are on level 1. Once they gain experience points, the function that models experience points versus level is the cube root function:\n",
    "\n",
    "$$ Level = (Experience)^{1/3} $$\n",
    "\n",
    "We can now take the level of the attacker into account when calculating damage:\n",
    "\n",
    "$$Damage=(\\frac{(\\frac{2 \\times Level}{5}+2) \\times Power \\times \\frac{A}{D}}{50}) \\times Modifier$$\n",
    "\n",
    "Thus, we need to add one more key to our Pokémon dictionary, experience points, which indicates the points gained when you beat that type of Pokémon."
   ]
  },
  {
   "cell_type": "code",
   "execution_count": 12,
   "metadata": {
    "collapsed": false
   },
   "outputs": [
   ],
   "source": [
    "CHARACTERS = {\n",
    "    'Pikachu': {'Type': ['Electric'], 'HP': 35, 'Moves': ['Thunder Shock',  'Double Kick', 'Thunderbolt'], 'Attack': 55, 'Defense': 40, 'Speed': 90, 'Experience': 112},\n",
    "    'Charizard': {'Type': ['Fire', 'Flying'], 'HP': 78, 'Moves': [ 'Crunch', 'Ember', 'Scratch', 'Wing Attack'], 'Attack': 84, 'Defense': 78, 'Speed': 100, 'Experience': 240},\n",
    "    'Squirtle': {'Type': ['Water'], 'HP': 44, 'Moves': ['Tackle',  'Bubble', 'Bite'], 'Attack': 48, 'Defense': 65, 'Speed': 43, 'Experience': 63},\n",
    "    'Jigglypuff': {'Type': ['Normal', 'Fairy'], 'HP': 115, 'Moves': ['Pound', 'Body Slam', 'Double Slap'], 'Attack': 45, 'Defense': 20, 'Speed': 20, 'Experience': 95},\n",
    "    'Gengar': {'Type': ['Ghost', 'Poison'], 'HP': 60, 'Moves': ['Lick', 'Smog', 'Dream Eater', 'Shadow Ball'], 'Attack': 65, 'Defense': 60, 'Speed': 110, 'Experience':225},\n",
    "    'Magnemite': {'Type': ['Electric', 'Steel'], 'HP': 25, 'Moves': [ 'Tackle', 'Flash Cannon', 'Thunder Shock', 'Thunderbolt'],  'Attack': 35, 'Defense': 70, 'Speed': 45, 'Experience': 65},\n",
    "    'Bulbasaur': {'Type': ['Grass', 'Poison'], 'HP': 45, 'Moves': ['Tackle', 'Vine Whip', 'Razor Leaf'], 'Attack': 49, 'Defense': 49, 'Speed': 45, 'Experience': 64},\n",
    "    'Charmander': {'Type': ['Fire'], 'HP': 39, 'Moves': ['Scratch', 'Ember', 'Fire Spin'], 'Attack': 52, 'Defense': 43, 'Speed': 65, 'Experience': 62},\n",
    "    'Beedrill': {'Type': ['Bug', 'Poison'], 'HP': 65, 'Moves': ['Peck', 'Twineedle', 'Rage', 'Fury Attack', 'Outrage'], 'Attack': 90, 'Defense': 40, 'Speed': 75, 'Experience': 178},\n",
    "    'Golem': {'Type': ['Rock', 'Ground'], 'HP': 80, 'Moves': [ 'Tackle', 'Rock Throw', 'Rock Slide', 'Earthquake'], 'Attack': 120, 'Defense': 130, 'Speed': 45, 'Experience': 223},\n",
    "    'Dewgong': {'Type': ['Water', 'Ice'], 'HP': 90, 'Moves': ['Aqua Jet',  'Ice Shard', 'Headbutt'], 'Attack': 70, 'Defense': 80, 'Speed': 70, 'Experience': 166},\n",
    "    'Hypno': {'Type': ['Psychic'],'HP': 85, 'Moves': ['Pound', 'Confusion', 'Dream Eater'], 'Attack': 73, 'Defense': 70, 'Speed': 67, 'Experience': 169},\n",
    "    'Cleffa': {'Type': ['Fairy'], 'HP': 50, 'Moves': [ 'Pound', 'Magical Leaf'], 'Attack': 25, 'Defense': 28, 'Speed': 15, 'Experience': 44},\n",
    "    'Cutiefly': {'Type': ['Fairy', 'Bug'], 'HP': 40, 'Moves': ['Absorb', 'Fairy Wind', 'Struggle Bug', 'Draining Kiss'], 'Attack': 45, 'Defense': 40, 'Speed': 84, 'Experience': 61}\n",
    "}\n"
   ]
  },
  {
   "cell_type": "code",
   "execution_count": 13,
   "metadata": {
    "collapsed": false
   },
   "outputs": [
    {
     "name": "stdout",
     "output_type": "stream",
     "text": [
      "64\n"
     ]
    }
   ],
   "source": [
    "enemy = \"Bulbasaur\"\n",
    "print(CHARACTERS[enemy]['Experience'])"
   ]
  },
  {
   "cell_type": "code",
   "execution_count": 0,
   "metadata": {
    "collapsed": false
   },
   "outputs": [
   ],
   "source": [
   ]
  },
  {
   "cell_type": "markdown",
   "metadata": {
    "collapsed": false
   },
   "source": [
    "Your task: Create a Pokémon game. \n",
    "\n",
    "1.Create a Pokémon class that contains the following information:\n",
    "\n",
    "Attributes: name, type_, HP, Attack, Defense, Speed, Experience, Moves, and Level\n",
    "\n",
    "Methods must include: battle, calculate_damage, update_level\n",
    "\n",
    "2.Create subclasses for each of the fourteen Pokémon. Make sure to use super_init.\n",
    "\n",
    "3.The user will need to choose a Bulbusaur, Charmander, or Squirtle to start with. Think carefully about user interface. How will a user play the game? How will a person that has never played before know how to play? How will a person choose which move to use based on which Pokémon they chose? What if the user types in \"squirtle\" versus \"Squirtle\"? Strive to make the game user-friendly.\n",
    "\n",
    "4.The computer should randomly generate a Pokémon out of the 14 characters for the user to fight against. Whichever Pokémon has the higher speed gets to attack first. They proceed to alternate attacking each other until one of them has fainted. For simplicity, you may assume that the computer always chooses the most damaging move against the user's Pokémon.\n",
    "\n",
    "5.Once a user has beaten a Pokémon, they add that Pokémon to their collection, and can then choose to use that Pokémon to fight their next enemy with as well. For example, if the user starts with Bulbasaur, but then defeats a randomly generated Cutiefly, then the user can then choose to attack their new randomly generated enemy, Dewgong, with either Bulbusaur, Charmander, Squirtle, or Cutiefly. Of course, if the user lost to Cutiefly and in doing so their HP points dropped to zero or below, then the game is over, and the game should print \"Your Pokémon fainted. Game over.\"\n",
    "\n",
    "6.If the user has beaten a Pokémon, then their experience and level should be updated accordingly.\n",
    "\n",
    "7.The code should pass the pycodestyle linter, be well commented, and each function should have a docstring.\n",
    "\n",
    "8.Speaking of functions, this is a large project and each groupmate should be in charge of several functions. Planning out what each function's input and output should be will make the task much less daunting. Remember that you can define functions but then save writing their details for later by using \"pass\" inside the function. Breaking the program up into smaller functions like determine_critical_hit, generate_enemy, choose_move, choose_character, etc. and then using \"if __name__ == “__main__”:\" to incorporate all of your work will be a must. \n",
    "\n",
    "9.Smart simple and add complexity as you go. For example, try to get each Pokemon's HP to deduct a simple 10 HP for each hit it takes. You can always add in the more complicated damage calculating formula later.\n",
    "\n",
    "10.If you need to convert a user's input into a class, this StackOverflow article may be helpful to you:\n",
    "\n",
    "https://stackoverflow.com/questions/7719466/how-to-convert-a-string-to-a-function-in-python\n",
    "\n",
    "11.Extension: Pygame is a Python package designed for writing video games. It includes computer graphics and sound libraries. In the images folder you will find pictures of each Pokemon. Read some online Pygame tutorials in order to figure out how to view images of the Pokemon involved in each battle. Can you create character images and create bars for how much HP, Experience, and Level your Pokemon has?"
   ]
  },
  {
   "cell_type": "code",
   "execution_count": 14,
   "metadata": {
    "cocalc": {
     "outputs": {
      "1": {
       "name": "input",
       "opts": {
        "password": false,
        "prompt": "Which Pokemon would you like to be?"
       },
       "output_type": "stream",
       "value": "b"
      },
      "3": {
       "name": "input",
       "opts": {
        "password": false,
        "prompt": "Which Pokemon would you like to be? Bulbusaur, Charmander, or Squirtle "
       },
       "output_type": "stream",
       "value": "Bulbasaur"
      },
      "4": {
       "name": "input",
       "opts": {
        "password": false,
        "prompt": "Which Pokemon would you like to be? Bulbusaur, Charmander, or Squirtle "
       },
       "output_type": "stream"
      }
     }
    },
    "collapsed": false,
    "scrolled": true
   },
   "outputs": [
    {
     "name": "stdout",
     "output_type": "stream",
     "text": [
      "Here're all pokemons you have:  ['Bulbusaur', 'Charmander', 'Squirtle']\n"
     ]
    },
    {
     "name": "stdout",
     "output_type": "stream",
     "text": "Which Pokemon would you like to be? b"
    },
    {
     "name": "stdout",
     "output_type": "stream",
     "text": [
      "B is not one of the valid pokemons.\n"
     ]
    },
    {
     "name": "stdout",
     "output_type": "stream",
     "text": "Which Pokemon would you like to be? Bulbusaur, Charmander, or Squirtle  Bulbasaur"
    },
    {
     "name": "stdout",
     "output_type": "stream",
     "text": "Which Pokemon would you like to be? Bulbusaur, Charmander, or Squirtle  "
    },
    {
     "name": "stdout",
     "output_type": "stream",
     "text": [
      "Bulbasaur is not one of the valid pokemons.\n"
     ],
     "value": "Bulbusaur"
    },
    {
     "ename": "KeyError",
     "evalue": "'Bulbusaur'",
     "output_type": "error",
     "traceback": [
      "\u001b[0;31m---------------------------------------------------------------------------\u001b[0m",
      "\u001b[0;31mKeyError\u001b[0m                                  Traceback (most recent call last)",
      "\u001b[0;32m<ipython-input-14-e81f4660f23a>\u001b[0m in \u001b[0;36m<module>\u001b[0;34m()\u001b[0m\n\u001b[1;32m     77\u001b[0m     \u001b[0mprint\u001b[0m\u001b[0;34m(\u001b[0m\u001b[0mname\u001b[0m\u001b[0;34m,\u001b[0m \u001b[0;34m'is not one of the valid pokemons.'\u001b[0m\u001b[0;34m)\u001b[0m\u001b[0;34m\u001b[0m\u001b[0m\n\u001b[1;32m     78\u001b[0m     \u001b[0mname\u001b[0m \u001b[0;34m=\u001b[0m \u001b[0minput\u001b[0m\u001b[0;34m(\u001b[0m\u001b[0;34m'Which Pokemon would you like to be? Bulbusaur, Charmander, or Squirtle '\u001b[0m\u001b[0;34m)\u001b[0m\u001b[0;34m.\u001b[0m\u001b[0mtitle\u001b[0m\u001b[0;34m(\u001b[0m\u001b[0;34m)\u001b[0m\u001b[0;34m\u001b[0m\u001b[0m\n\u001b[0;32m---> 79\u001b[0;31m \u001b[0mplayer\u001b[0m \u001b[0;34m=\u001b[0m \u001b[0mPokemon\u001b[0m\u001b[0;34m(\u001b[0m\u001b[0mname\u001b[0m\u001b[0;34m,\u001b[0m \u001b[0mCHARACTERS\u001b[0m\u001b[0;34m[\u001b[0m\u001b[0mname\u001b[0m\u001b[0;34m]\u001b[0m\u001b[0;34m[\u001b[0m\u001b[0;34m'HP'\u001b[0m\u001b[0;34m]\u001b[0m\u001b[0;34m,\u001b[0m \u001b[0;36m1\u001b[0m\u001b[0;34m,\u001b[0m \u001b[0;36m1\u001b[0m\u001b[0;34m)\u001b[0m\u001b[0;34m\u001b[0m\u001b[0m\n\u001b[0m\u001b[1;32m     80\u001b[0m \u001b[0;34m\u001b[0m\u001b[0m\n\u001b[1;32m     81\u001b[0m \u001b[0;31m#randomly select computer's character from the fourteen characters\u001b[0m\u001b[0;34m\u001b[0m\u001b[0;34m\u001b[0m\u001b[0m\n",
      "\u001b[0;31mKeyError\u001b[0m: 'Bulbusaur'"
     ]
    }
   ],
   "source": [
    "#new version\n",
    "import random as rand\n",
    "\n",
    "player_pokemon_options = ['Bulbusaur', 'Charmander', 'Squirtle']\n",
    "\n",
    "class Pokemon:\n",
    "    '''Create a pokemon class'''\n",
    "    def __init__(self, character, HP, experience, level):\n",
    "        self.character = character\n",
    "        self.HP = HP\n",
    "        self.experience = experience\n",
    "        self.level = level\n",
    "\n",
    "    def battle(self, opponent):\n",
    "        while self.HP > 0 and opponent.HP > 0:\n",
    "            print('\\n-----Opponent is attacking!-----')\n",
    "#             print(CHARACTERS[opponent.character])\n",
    "#             attack = CHARACTERS[opponent.character]['Moves'][0]               # THIS LINE WILL PICK THE FIRST ATTACK IN A CHARACTER'S LIST\n",
    "#             attack = rand.choice(CHARACTERS[opponent.character]['Moves'])     # THIS LINE WILL PICK A RANDOM ATTACK FOR THE COMPUTER TO CARRY OUT\n",
    "\n",
    "            best_damage = 0\n",
    "            for attack_option in CHARACTERS[opponent.character]['Moves']: # this for loop checks to determine which attack the computer can make will be the best\n",
    "                damage = self.calculate_damage(opponent, attack_option, self, False) # False means no critical hits nad no random modifier\n",
    "                \n",
    "                if damage > best_damage:\n",
    "                    best_attack = attack_option\n",
    "                    best_damage = damage\n",
    "                print('attack option:', attack_option, '\\tdamage:', damage)\n",
    "            attack = best_attack\n",
    "            print(f'\\nComputer uses {attack}!\\n')\n",
    "            self.HP -= self.calculate_damage(opponent, best_attack, self, True)\n",
    "            print(f'Remaining HP: computer {opponent.HP}, you {self.HP}')\n",
    "            if self.HP > 0:\n",
    "                print('\\n-----Your turn to attack!-----')\n",
    "                attack = input(f'Which attack would you like to use? {CHARACTERS[self.character][\"Moves\"]} ').title()\n",
    "                while attack not in CHARACTERS[self.character]['Moves']:\n",
    "                    print(f\"That's not a valid move for {self.character}!\")\n",
    "                    attack = input(f'Which attack would you like to use? {CHARACTERS[self.character][\"Moves\"]} ').title()\n",
    "                opponent.HP -= self.calculate_damage(self, attack, opponent, True)\n",
    "                print(f'Remaining HP: computer {opponent.HP}, you {self.HP}')\n",
    "        \n",
    "        if opponent.HP <= 0:\n",
    "            player_pokemon_options.append(opponent.character)\n",
    "            print(f'Congratulations! You just knocked out {opponent.character}!')\n",
    "        if self.HP <= 0:\n",
    "            print(f'Uh oh! You just got knocked out by {opponent.character}!')\n",
    "    \n",
    "    def calculate_damage(self, attacker, attack, defender, need_random):\n",
    "        crit = 1\n",
    "        if need_random: # need_random IS TRUE FOR ALL BATTLES, FALSE FOR DETERMINING COMPUTER'S BEST ATTACK OPTION\n",
    "            num = rand.randint(85, 100) / 100 # randint is inclusive\n",
    "            if rand.randint(0, 512) <= CHARACTERS[attacker.character]['Speed']:\n",
    "                crit = 2\n",
    "                print('Critical Hit!')\n",
    "        else:\n",
    "            num = 1\n",
    "        \n",
    "        effective = 1\n",
    "        for attacker_type in CHARACTERS[attacker.character]['Type']:\n",
    "            if CHARACTERS[defender.character]['Type'] in MOVES_DICTIONARY[attack]['super effective against']:\n",
    "                effective *= 2\n",
    "            if CHARACTERS[defender.character]['Type'] in MOVES_DICTIONARY[attack]['not very effective against']:\n",
    "                effective /= 2\n",
    "        modifier = num * crit * effective\n",
    "        return (2/5 * attacker.level + 2)* POWERS[attack] * CHARACTERS[defender.character]['Attack'] / CHARACTERS[defender.character]['Defense'] * modifier / 50\n",
    "    \n",
    "    def update_level(self):\n",
    "        self.level = int(self.experience ** 1./3)\n",
    "    \n",
    "    def __str__(self):\n",
    "        return f\"{CHARACTERS[self.character]['Type']} is a Pokemon. \"\n",
    "\n",
    "\n",
    "print(\"Here're all pokemons you have: \", player_pokemon_options)\n",
    "name = input('Which Pokemon would you like to be?').title()\n",
    "while name not in player_pokemon_options:\n",
    "    print(name, 'is not one of the valid pokemons.')\n",
    "    name = input('Which Pokemon would you like to be? Bulbusaur, Charmander, or Squirtle ').title()\n",
    "player = Pokemon(name, CHARACTERS[name]['HP'], 1, 1)\n",
    "\n",
    "#randomly select computer's character from the fourteen characters\n",
    "computer_characters = []\n",
    "for name in CHARACTERS:\n",
    "    computer_characters.append(name)\n",
    "enemy = rand.choice(computer_characters)\n",
    "print(enemy)\n",
    "\n",
    "Computer = Pokemon(enemy, CHARACTERS[enemy]['HP'], 1, 1)\n",
    "player.battle(Computer)"
   ]
  },
  {
   "cell_type": "code",
   "execution_count": 15,
   "metadata": {
    "cocalc": {
     "outputs": {
      "1": {
       "name": "input",
       "opts": {
        "password": false,
        "prompt": "Which Pokemon would you like to be?"
       },
       "output_type": "stream",
       "value": "b"
      }
     }
    },
    "collapsed": false
   },
   "outputs": [
    {
     "name": "stdout",
     "output_type": "stream",
     "text": [
      "Pick one pokemon to start with:  ['Bulbasaur', 'Charmander', 'Squirtle']\n"
     ]
    },
    {
     "name": "stdout",
     "output_type": "stream",
     "text": "Which Pokemon would you like to be? b"
    },
    {
     "name": "stdout",
     "output_type": "stream",
     "text": [
      "B is not one of the valid pokemons.\n"
     ]
    },
    {
     "ename": "TypeError",
     "evalue": "raw_input() takes from 1 to 2 positional arguments but 3 were given",
     "output_type": "error",
     "traceback": [
      "\u001b[0;31m---------------------------------------------------------------------------\u001b[0m",
      "\u001b[0;31mTypeError\u001b[0m                                 Traceback (most recent call last)",
      "\u001b[0;32m<ipython-input-15-31f03df578ab>\u001b[0m in \u001b[0;36m<module>\u001b[0;34m()\u001b[0m\n\u001b[1;32m    107\u001b[0m \u001b[0;32mwhile\u001b[0m \u001b[0mname\u001b[0m \u001b[0;32mnot\u001b[0m \u001b[0;32min\u001b[0m \u001b[0mstarting_pokemon_options\u001b[0m\u001b[0;34m:\u001b[0m\u001b[0;34m\u001b[0m\u001b[0m\n\u001b[1;32m    108\u001b[0m     \u001b[0mprint\u001b[0m\u001b[0;34m(\u001b[0m\u001b[0mname\u001b[0m\u001b[0;34m,\u001b[0m \u001b[0;34m'is not one of the valid pokemons.'\u001b[0m\u001b[0;34m)\u001b[0m\u001b[0;34m\u001b[0m\u001b[0m\n\u001b[0;32m--> 109\u001b[0;31m     \u001b[0mname\u001b[0m \u001b[0;34m=\u001b[0m \u001b[0minput\u001b[0m\u001b[0;34m(\u001b[0m\u001b[0;34m'Which Pokemon would you like to start with?'\u001b[0m\u001b[0;34m,\u001b[0m \u001b[0mstarting_pokemon_options\u001b[0m\u001b[0;34m)\u001b[0m\u001b[0;34m.\u001b[0m\u001b[0mtitle\u001b[0m\u001b[0;34m(\u001b[0m\u001b[0;34m)\u001b[0m\u001b[0;34m\u001b[0m\u001b[0m\n\u001b[0m\u001b[1;32m    110\u001b[0m \u001b[0;34m\u001b[0m\u001b[0m\n\u001b[1;32m    111\u001b[0m \u001b[0mplayers_pokemon\u001b[0m \u001b[0;34m=\u001b[0m \u001b[0;34m[\u001b[0m\u001b[0;34m(\u001b[0m\u001b[0mname\u001b[0m\u001b[0;34m,\u001b[0m \u001b[0;36m1000\u001b[0m\u001b[0;34m)\u001b[0m\u001b[0;34m]\u001b[0m\u001b[0;34m\u001b[0m\u001b[0m\n",
      "\u001b[0;31mTypeError\u001b[0m: raw_input() takes from 1 to 2 positional arguments but 3 were given"
     ]
    }
   ],
   "source": [
    "#newer version\n",
    "import random as rand\n",
    "\n",
    "class Pokemon:\n",
    "    '''Create a pokemon class'''\n",
    "    def __init__(self, character, HP, experience, level):\n",
    "        self.character = character\n",
    "        self.HP = HP\n",
    "        self.experience = experience\n",
    "        self.level = level\n",
    "\n",
    "    def battle(self, opponent):\n",
    "        print(f\"Your speed: {CHARACTERS[self.character]['Speed']}, Computer's speed: {CHARACTERS[opponent.character]['Speed']}\")\n",
    "        if CHARACTERS[opponent.character]['Speed'] > CHARACTERS[self.character]['Speed']: # this if/else statement determines who attacks first and carries out the battle\n",
    "            print('Computer attacks first!')\n",
    "            while self.HP > 0 and opponent.HP > 0:\n",
    "                self.computer_attack(opponent)\n",
    "                if self.HP > 0:\n",
    "                    self.player_attack(opponent)\n",
    "        else:\n",
    "            print('You attack first!')\n",
    "            while self.HP > 0 and opponent.HP > 0:\n",
    "                self.player_attack(opponent)\n",
    "                if opponent.HP > 0:\n",
    "                    self.computer_attack(opponent)\n",
    "        if opponent.HP <= 0:\n",
    "            players_pokemon.append((opponent.character, 1))\n",
    "            print(f'Congratulations! You just knocked out {opponent.character}!')\n",
    "            print('Your pokemon are:', players_pokemon)\n",
    "            name, previous_exp = players_pokemon.pop(players_pokemon.index((self.character, self.experience)))\n",
    "            self.experience += opponent.experience\n",
    "            players_pokemon.append((name, self.experience))\n",
    "            print(f'Your pokemon, {self.character}, just gained {opponent.experience} experience points!')\n",
    "        if self.HP <= 0:\n",
    "            print(f'Uh oh! You just got knocked out by {opponent.character}!')\n",
    "            players_pokemon.remove((self.character, self.experience))\n",
    "            print('Your remaining pokemon are', players_pokemon)\n",
    "        return players_pokemon\n",
    "    \n",
    "    def player_attack(self, opponent):\n",
    "        print('\\n-----Your turn to attack!-----')\n",
    "        if input('Would you like to consult your Pokedex to determine which move is the best? (y / n)').lower() == 'y':\n",
    "            print('self.level: ', self.level)\n",
    "            opponent.best_attack(CHARACTERS[self.character]['Moves'], opponent) # think about why this works...idk\n",
    "        \n",
    "        attack = input(f'Which attack would you like to use? {CHARACTERS[self.character][\"Moves\"]} ').title()\n",
    "        \n",
    "        while attack not in CHARACTERS[self.character]['Moves']:\n",
    "            print(f\"That's not a valid move for {self.character}!\")\n",
    "            attack = input(f'Which attack would you like to use? {CHARACTERS[self.character][\"Moves\"]} ').title()\n",
    "        \n",
    "        opponent.HP -= self.calculate_damage(self, attack, opponent, True)\n",
    "        print(f'Remaining HP: computer {opponent.HP}, you {self.HP}')\n",
    "    \n",
    "    def computer_attack(self, opponent):\n",
    "        print('\\n-----Opponent is attacking!-----')\n",
    "#         print(CHARACTERS[opponent.character])\n",
    "#         attack = CHARACTERS[opponent.character]['Moves'][0]               # THIS LINE WILL PICK THE FIRST ATTACK IN A CHARACTER'S LIST\n",
    "#         attack = rand.choice(CHARACTERS[opponent.character]['Moves'])     # THIS LINE WILL PICK A RANDOM ATTACK FOR THE COMPUTER TO CARRY OUT\n",
    "        attack = self.best_attack(CHARACTERS[opponent.character]['Moves'], opponent) # think about why this works...idk\n",
    "        print(f'\\nComputer uses {attack}!\\n')\n",
    "        self.HP -= self.calculate_damage(opponent, attack, self, True)\n",
    "        print(f'Remaining HP: computer {opponent.HP}, you {self.HP}')\n",
    "    \n",
    "    def best_attack(self, moves, opponent):\n",
    "        best_damage = 0\n",
    "        for move in moves: # this for loop checks to determine which attack the computer can make will be the best\n",
    "            damage = self.calculate_damage(opponent, move, self, False) # False means no critical hits nad no random modifier\n",
    "            if damage > best_damage:\n",
    "                bestest_attack = move\n",
    "                best_damage = damage\n",
    "            print(f'attack option: {move} \\tdamage: {damage} \\tThis attack is super effective against: {MOVES_DICTIONARY[move][\"super effective against\"]} and not very effective against {MOVES_DICTIONARY[move][\"not very effective against\"]}')\n",
    "        return bestest_attack\n",
    "    \n",
    "    def calculate_damage(self, attacker, attack, defender, need_random):\n",
    "        crit = 1\n",
    "        if need_random: # need_random IS TRUE FOR ALL BATTLES, FALSE FOR DETERMINING COMPUTER'S BEST ATTACK OPTION\n",
    "            num = rand.randint(85, 100) / 100 # randint is inclusive\n",
    "            if rand.randint(0, 512) <= CHARACTERS[attacker.character]['Speed']:\n",
    "                crit = 2\n",
    "                print('Critical Hit!')\n",
    "        else:\n",
    "            num = 1\n",
    "        \n",
    "        effective = 1\n",
    "        for defender_type in CHARACTERS[defender.character]['Type']: # changed this\n",
    "            if defender_type in MOVES_DICTIONARY[attack]['super effective against']:\n",
    "                effective *= 2\n",
    "            if defender_type in MOVES_DICTIONARY[attack]['not very effective against']:\n",
    "                effective /= 2\n",
    "        modifier = num * crit * effective\n",
    "        print('attack level', attacker.level)\n",
    "        print('defender level', defender.level)\n",
    "        print(self.level)                                                # this is 10 (as it should be) when the computer is attacking, but is 1 when i am attacking\n",
    "        return (2/5 * attacker.level + 2)* POWERS[attack] * CHARACTERS[defender.character]['Attack'] / CHARACTERS[defender.character]['Defense'] * modifier / 50\n",
    "    \n",
    "    def update_level(self):\n",
    "        self.level = int(self.experience ** 1./3)\n",
    "    \n",
    "    def __str__(self):\n",
    "        return f\"{CHARACTERS[self.character]['Type']} is a Pokemon. \"\n",
    "\n",
    "starting_pokemon_options = ['Bulbasaur', 'Charmander', 'Squirtle']\n",
    "\n",
    "print(\"Pick one pokemon to start with: \", starting_pokemon_options)\n",
    "name = input('Which Pokemon would you like to be?').title()\n",
    "while name not in starting_pokemon_options:\n",
    "    print(name, 'is not one of the valid pokemons.')\n",
    "    name = input('Which Pokemon would you like to start with?', starting_pokemon_options).title()\n",
    "\n",
    "players_pokemon = [(name, 1000)]\n",
    "player = Pokemon(name, CHARACTERS[name]['HP'], 1000, 10)\n",
    "\n",
    "#randomly select computer's character from the fourteen characters\n",
    "computer_characters = []\n",
    "for name in CHARACTERS:\n",
    "    computer_characters.append(name)\n",
    "enemy = rand.choice(computer_characters)\n",
    "# print(enemy)\n",
    "enemy = 'Bulbasaur'\n",
    "Computer = Pokemon(enemy, CHARACTERS[enemy]['HP'], 1, 1)\n",
    "player.battle(Computer)"
   ]
  },
  {
   "cell_type": "code",
   "execution_count": 17,
   "metadata": {
    "cocalc": {
     "outputs": {
      "1": {
       "name": "input",
       "opts": {
        "password": false,
        "prompt": "Which Pokemon would you like to be?"
       },
       "output_type": "stream",
       "value": "Bulbasaur"
      },
      "10": {
       "name": "input",
       "opts": {
        "password": false,
        "prompt": "Would you like to consult your Pokedex to determine which move is the best? (y / n)"
       },
       "output_type": "stream",
       "value": "y"
      },
      "12": {
       "name": "input",
       "opts": {
        "password": false,
        "prompt": "Which attack would you like to use? ['Tackle', 'Vine Whip', 'Razor Leaf'] "
       },
       "output_type": "stream",
       "value": "Tackle"
      },
      "14": {
       "name": "input",
       "opts": {
        "password": false,
        "prompt": "Would you like to consult your Pokedex to determine which move is the best? (y / n)"
       },
       "output_type": "stream",
       "value": "n"
      },
      "15": {
       "name": "input",
       "opts": {
        "password": false,
        "prompt": "Which attack would you like to use? ['Tackle', 'Vine Whip', 'Razor Leaf'] "
       },
       "output_type": "stream",
       "value": "tackle"
      },
      "17": {
       "name": "input",
       "opts": {
        "password": false,
        "prompt": "Would you like to consult your Pokedex to determine which move is the best? (y / n)"
       },
       "output_type": "stream",
       "value": "t"
      },
      "18": {
       "name": "input",
       "opts": {
        "password": false,
        "prompt": "Which attack would you like to use? ['Tackle', 'Vine Whip', 'Razor Leaf'] "
       },
       "output_type": "stream",
       "value": "Tackle"
      },
      "2": {
       "name": "input",
       "opts": {
        "password": false,
        "prompt": "Which Pokemon would you like to be?"
       },
       "output_type": "stream"
      },
      "20": {
       "name": "input",
       "opts": {
        "password": false,
        "prompt": "Would you like to consult your Pokedex to determine which move is the best? (y / n)"
       },
       "output_type": "stream",
       "value": "Tackle"
      },
      "21": {
       "name": "input",
       "opts": {
        "password": false,
        "prompt": "Which attack would you like to use? ['Tackle', 'Vine Whip', 'Razor Leaf'] "
       },
       "output_type": "stream",
       "value": "Tackle"
      },
      "22": {
       "name": "input",
       "opts": {
        "password": false,
        "prompt": "Would you like to consult your Pokedex to determine which move is the best? (y / n)"
       },
       "output_type": "stream"
      },
      "24": {
       "name": "input",
       "opts": {
        "password": false,
        "prompt": "Which attack would you like to use? ['Tackle', 'Vine Whip', 'Razor Leaf'] "
       },
       "output_type": "stream",
       "value": "Tackle"
      },
      "26": {
       "name": "input",
       "opts": {
        "password": false,
        "prompt": "Would you like to consult your Pokedex to determine which move is the best? (y / n)"
       },
       "output_type": "stream",
       "value": "Tackle"
      },
      "27": {
       "name": "input",
       "opts": {
        "password": false,
        "prompt": "Which attack would you like to use? ['Tackle', 'Vine Whip', 'Razor Leaf'] "
       },
       "output_type": "stream",
       "value": "Tackle"
      },
      "29": {
       "name": "input",
       "opts": {
        "password": false,
        "prompt": "Would you like to consult your Pokedex to determine which move is the best? (y / n)"
       },
       "output_type": "stream",
       "value": "Tackle"
      },
      "30": {
       "name": "input",
       "opts": {
        "password": false,
        "prompt": "Which attack would you like to use? ['Tackle', 'Vine Whip', 'Razor Leaf'] "
       },
       "output_type": "stream",
       "value": "Tackle"
      },
      "32": {
       "name": "input",
       "opts": {
        "password": false,
        "prompt": "Would you like to consult your Pokedex to determine which move is the best? (y / n)"
       },
       "output_type": "stream",
       "value": ""
      },
      "33": {
       "name": "input",
       "opts": {
        "password": false,
        "prompt": "Which attack would you like to use? ['Tackle', 'Vine Whip', 'Razor Leaf'] "
       },
       "output_type": "stream",
       "value": "Tackle"
      },
      "35": {
       "name": "input",
       "opts": {
        "password": false,
        "prompt": "Would you like to consult your Pokedex to determine which move is the best? (y / n)"
       },
       "output_type": "stream",
       "value": "Tackle"
      },
      "36": {
       "name": "input",
       "opts": {
        "password": false,
        "prompt": "Which attack would you like to use? ['Tackle', 'Vine Whip', 'Razor Leaf'] "
       },
       "output_type": "stream",
       "value": "Tackle"
      },
      "38": {
       "name": "input",
       "opts": {
        "password": false,
        "prompt": "Would you like to consult your Pokedex to determine which move is the best? (y / n)"
       },
       "output_type": "stream",
       "value": "Tackle"
      },
      "39": {
       "name": "input",
       "opts": {
        "password": false,
        "prompt": "Which attack would you like to use? ['Tackle', 'Vine Whip', 'Razor Leaf'] "
       },
       "output_type": "stream",
       "value": "Tackle"
      },
      "4": {
       "name": "input",
       "opts": {
        "password": false,
        "prompt": "Which Pokemon would you like to be? [('Bulbasaur', 1)]"
       },
       "output_type": "stream"
      },
      "41": {
       "name": "input",
       "opts": {
        "password": false,
        "prompt": "Would you like to consult your Pokedex to determine which move is the best? (y / n)"
       },
       "output_type": "stream",
       "value": "Tackle"
      },
      "42": {
       "name": "input",
       "opts": {
        "password": false,
        "prompt": "Which attack would you like to use? ['Tackle', 'Vine Whip', 'Razor Leaf'] "
       },
       "output_type": "stream",
       "value": "Tackle"
      },
      "44": {
       "name": "input",
       "opts": {
        "password": false,
        "prompt": "Would you like to consult your Pokedex to determine which move is the best? (y / n)"
       },
       "output_type": "stream",
       "value": "Tackle"
      },
      "45": {
       "name": "input",
       "opts": {
        "password": false,
        "prompt": "Which attack would you like to use? ['Tackle', 'Vine Whip', 'Razor Leaf'] "
       },
       "output_type": "stream",
       "value": "Tackle"
      },
      "47": {
       "name": "input",
       "opts": {
        "password": false,
        "prompt": "Would you like to consult your Pokedex to determine which move is the best? (y / n)"
       },
       "output_type": "stream",
       "value": "Tackle"
      },
      "48": {
       "name": "input",
       "opts": {
        "password": false,
        "prompt": "Which attack would you like to use? ['Tackle', 'Vine Whip', 'Razor Leaf'] "
       },
       "output_type": "stream",
       "value": "Tackle"
      },
      "50": {
       "name": "input",
       "opts": {
        "password": false,
        "prompt": "Would you like to consult your Pokedex to determine which move is the best? (y / n)"
       },
       "output_type": "stream",
       "value": "Tackle"
      },
      "51": {
       "name": "input",
       "opts": {
        "password": false,
        "prompt": "Which attack would you like to use? ['Tackle', 'Vine Whip', 'Razor Leaf'] "
       },
       "output_type": "stream",
       "value": "Tackle"
      },
      "53": {
       "name": "input",
       "opts": {
        "password": false,
        "prompt": "Would you like to consult your Pokedex to determine which move is the best? (y / n)"
       },
       "output_type": "stream",
       "value": "Tackle"
      },
      "54": {
       "name": "input",
       "opts": {
        "password": false,
        "prompt": "Which attack would you like to use? ['Tackle', 'Vine Whip', 'Razor Leaf'] "
       },
       "output_type": "stream",
       "value": "Tackle"
      },
      "56": {
       "name": "input",
       "opts": {
        "password": false,
        "prompt": "Would you like to consult your Pokedex to determine which move is the best? (y / n)"
       },
       "output_type": "stream",
       "value": "Tackle"
      },
      "57": {
       "name": "input",
       "opts": {
        "password": false,
        "prompt": "Which attack would you like to use? ['Tackle', 'Vine Whip', 'Razor Leaf'] "
       },
       "output_type": "stream",
       "value": "Tackle"
      },
      "59": {
       "name": "input",
       "opts": {
        "password": false,
        "prompt": "Would you like to consult your Pokedex to determine which move is the best? (y / n)"
       },
       "output_type": "stream",
       "value": ""
      },
      "60": {
       "name": "input",
       "opts": {
        "password": false,
        "prompt": "Which attack would you like to use? ['Tackle', 'Vine Whip', 'Razor Leaf'] "
       },
       "output_type": "stream",
       "value": "Tackle"
      },
      "61": {
       "name": "input",
       "opts": {
        "password": false,
        "prompt": "Would you like to consult your Pokedex to determine which move is the best? (y / n)"
       },
       "output_type": "stream"
      },
      "64": {
       "name": "input",
       "opts": {
        "password": false,
        "prompt": "Which attack would you like to use? ['Tackle', 'Vine Whip', 'Razor Leaf'] "
       },
       "output_type": "stream",
       "value": "n"
      },
      "66": {
       "name": "input",
       "opts": {
        "password": false,
        "prompt": "Which attack would you like to use? ['Tackle', 'Vine Whip', 'Razor Leaf'] "
       },
       "output_type": "stream",
       "value": "Tackle"
      },
      "68": {
       "name": "input",
       "opts": {
        "password": false,
        "prompt": "Would you like to consult your Pokedex to determine which move is the best? (y / n)"
       },
       "output_type": "stream",
       "value": "n"
      },
      "69": {
       "name": "input",
       "opts": {
        "password": false,
        "prompt": "Which attack would you like to use? ['Tackle', 'Vine Whip', 'Razor Leaf'] "
       },
       "output_type": "stream",
       "value": "Tackle"
      },
      "7": {
       "name": "input",
       "opts": {
        "password": false,
        "prompt": "Would you like to consult your Pokedex to determine which move is the best? (y / n)"
       },
       "output_type": "stream",
       "value": "n"
      },
      "71": {
       "name": "input",
       "opts": {
        "password": false,
        "prompt": "Would you like to consult your Pokedex to determine which move is the best? (y / n)"
       },
       "output_type": "stream",
       "value": "n"
      },
      "72": {
       "name": "input",
       "opts": {
        "password": false,
        "prompt": "Which attack would you like to use? ['Tackle', 'Vine Whip', 'Razor Leaf'] "
       },
       "output_type": "stream",
       "value": "Tackle"
      },
      "8": {
       "name": "input",
       "opts": {
        "password": false,
        "prompt": "Which attack would you like to use? ['Tackle', 'Vine Whip', 'Razor Leaf'] "
       },
       "output_type": "stream",
       "value": "tackle"
      }
     }
    },
    "collapsed": false,
    "scrolled": true
   },
   "outputs": [
    {
     "name": "stdout",
     "output_type": "stream",
     "text": [
      "Pick one pokemon to fight with:  ['Bulbasaur', 'Charmander', 'Squirtle']\n"
     ]
    },
    {
     "name": "stdout",
     "output_type": "stream",
     "text": "Which Pokemon would you like to be? Bulbasaur"
    },
    {
     "name": "stdout",
     "output_type": "stream",
     "text": "Which Pokemon would you like to be? "
    },
    {
     "name": "stdout",
     "output_type": "stream",
     "text": [
      "players pokemon [('Bulbasaur', 1)]\n",
      "Pick one pokemon to fight with:  [('Bulbasaur', 1)]\n"
     ],
     "value": "d"
    },
    {
     "name": "stdout",
     "output_type": "stream",
     "text": "Which Pokemon would you like to be? [('Bulbasaur', 1)] "
    },
    {
     "name": "stdout",
     "output_type": "stream",
     "text": [
      "[('Bulbasaur', 1)]\n",
      "D is not one of the valid pokemons.\n"
     ],
     "value": "Bulbasaur"
    },
    {
     "name": "stdout",
     "output_type": "stream",
     "text": [
      "Your hitpoints: 45, Computer's hitpoints: 45\n",
      "Your speed: 45, Computer's speed: 45\n",
      "You attack first!\n",
      "\n",
      "-----Your turn to attack!-----\n"
     ]
    },
    {
     "name": "stdout",
     "output_type": "stream",
     "text": "Would you like to consult your Pokedex to determine which move is the best? (y / n) n"
    },
    {
     "name": "stdout",
     "output_type": "stream",
     "text": "Which attack would you like to use? ['Tackle', 'Vine Whip', 'Razor Leaf']  tackle"
    },
    {
     "name": "stdout",
     "output_type": "stream",
     "text": [
      "Remaining HP: computer 43.3104, you 45\n",
      "\n",
      "-----Opponent is attacking!-----\n",
      "attack option: Tackle \tdamage: 1.92 \tThis attack is super effective against: ['N/A'] and not very effective against ['Rock', 'Steel']\n",
      "attack option: Vine Whip \tdamage: 0.54 \tThis attack is super effective against: ['Water', 'Ground', 'Rock'] and not very effective against ['Fire', 'Grass', 'Poison', 'Flying', 'Bug', 'Dragon', 'Steel']\n",
      "attack option: Razor Leaf \tdamage: 0.66 \tThis attack is super effective against: ['Water', 'Ground', 'Rock'] and not very effective against ['Fire', 'Grass', 'Poison', 'Flying', 'Bug', 'Dragon', 'Steel']\n",
      "\n",
      "Computer uses Tackle!\n",
      "\n",
      "Remaining HP: computer 43.3104, you 43.1376\n",
      "\n",
      "-----Your turn to attack!-----\n"
     ]
    },
    {
     "name": "stdout",
     "output_type": "stream",
     "text": "Would you like to consult your Pokedex to determine which move is the best? (y / n) y"
    },
    {
     "name": "stdout",
     "output_type": "stream",
     "text": [
      "self.level:  1\n",
      "attack option: Tackle \tdamage: 1.92 \tThis attack is super effective against: ['N/A'] and not very effective against ['Rock', 'Steel']\n",
      "attack option: Vine Whip \tdamage: 0.54 \tThis attack is super effective against: ['Water', 'Ground', 'Rock'] and not very effective against ['Fire', 'Grass', 'Poison', 'Flying', 'Bug', 'Dragon', 'Steel']\n",
      "attack option: Razor Leaf \tdamage: 0.66 \tThis attack is super effective against: ['Water', 'Ground', 'Rock'] and not very effective against ['Fire', 'Grass', 'Poison', 'Flying', 'Bug', 'Dragon', 'Steel']\n"
     ]
    },
    {
     "name": "stdout",
     "output_type": "stream",
     "text": "Which attack would you like to use? ['Tackle', 'Vine Whip', 'Razor Leaf']  Tackle"
    },
    {
     "name": "stdout",
     "output_type": "stream",
     "text": [
      "Remaining HP: computer 41.6592, you 43.1376\n",
      "\n",
      "-----Opponent is attacking!-----\n",
      "attack option: Tackle \tdamage: 1.92 \tThis attack is super effective against: ['N/A'] and not very effective against ['Rock', 'Steel']\n",
      "attack option: Vine Whip \tdamage: 0.54 \tThis attack is super effective against: ['Water', 'Ground', 'Rock'] and not very effective against ['Fire', 'Grass', 'Poison', 'Flying', 'Bug', 'Dragon', 'Steel']\n",
      "attack option: Razor Leaf \tdamage: 0.66 \tThis attack is super effective against: ['Water', 'Ground', 'Rock'] and not very effective against ['Fire', 'Grass', 'Poison', 'Flying', 'Bug', 'Dragon', 'Steel']\n",
      "\n",
      "Computer uses Tackle!\n",
      "\n",
      "Critical Hit!\n",
      "Remaining HP: computer 41.6592, you 39.681599999999996\n",
      "\n",
      "-----Your turn to attack!-----\n"
     ]
    },
    {
     "name": "stdout",
     "output_type": "stream",
     "text": "Would you like to consult your Pokedex to determine which move is the best? (y / n) n"
    },
    {
     "name": "stdout",
     "output_type": "stream",
     "text": "Which attack would you like to use? ['Tackle', 'Vine Whip', 'Razor Leaf']  tackle"
    },
    {
     "name": "stdout",
     "output_type": "stream",
     "text": [
      "Remaining HP: computer 39.9696, you 39.681599999999996\n",
      "\n",
      "-----Opponent is attacking!-----\n",
      "attack option: Tackle \tdamage: 1.92 \tThis attack is super effective against: ['N/A'] and not very effective against ['Rock', 'Steel']\n",
      "attack option: Vine Whip \tdamage: 0.54 \tThis attack is super effective against: ['Water', 'Ground', 'Rock'] and not very effective against ['Fire', 'Grass', 'Poison', 'Flying', 'Bug', 'Dragon', 'Steel']\n",
      "attack option: Razor Leaf \tdamage: 0.66 \tThis attack is super effective against: ['Water', 'Ground', 'Rock'] and not very effective against ['Fire', 'Grass', 'Poison', 'Flying', 'Bug', 'Dragon', 'Steel']\n",
      "\n",
      "Computer uses Tackle!\n",
      "\n",
      "Remaining HP: computer 39.9696, you 38.011199999999995\n",
      "\n",
      "-----Your turn to attack!-----\n"
     ]
    },
    {
     "name": "stdout",
     "output_type": "stream",
     "text": "Would you like to consult your Pokedex to determine which move is the best? (y / n) t"
    },
    {
     "name": "stdout",
     "output_type": "stream",
     "text": "Which attack would you like to use? ['Tackle', 'Vine Whip', 'Razor Leaf']  Tackle"
    },
    {
     "name": "stdout",
     "output_type": "stream",
     "text": [
      "Remaining HP: computer 38.2416, you 38.011199999999995\n",
      "\n",
      "-----Opponent is attacking!-----\n",
      "attack option: Tackle \tdamage: 1.92 \tThis attack is super effective against: ['N/A'] and not very effective against ['Rock', 'Steel']\n",
      "attack option: Vine Whip \tdamage: 0.54 \tThis attack is super effective against: ['Water', 'Ground', 'Rock'] and not very effective against ['Fire', 'Grass', 'Poison', 'Flying', 'Bug', 'Dragon', 'Steel']\n",
      "attack option: Razor Leaf \tdamage: 0.66 \tThis attack is super effective against: ['Water', 'Ground', 'Rock'] and not very effective against ['Fire', 'Grass', 'Poison', 'Flying', 'Bug', 'Dragon', 'Steel']\n",
      "\n",
      "Computer uses Tackle!\n",
      "\n",
      "Critical Hit!\n",
      "Remaining HP: computer 38.2416, you 34.516799999999996\n",
      "\n",
      "-----Your turn to attack!-----\n"
     ]
    },
    {
     "name": "stdout",
     "output_type": "stream",
     "text": "Would you like to consult your Pokedex to determine which move is the best? (y / n) Tackle"
    },
    {
     "name": "stdout",
     "output_type": "stream",
     "text": "Which attack would you like to use? ['Tackle', 'Vine Whip', 'Razor Leaf']  Tackle"
    },
    {
     "name": "stdout",
     "output_type": "stream",
     "text": "Would you like to consult your Pokedex to determine which move is the best? (y / n) "
    },
    {
     "name": "stdout",
     "output_type": "stream",
     "text": [
      "Remaining HP: computer 36.3216, you 34.516799999999996\n",
      "\n",
      "-----Opponent is attacking!-----\n",
      "attack option: Tackle \tdamage: 1.92 \tThis attack is super effective against: ['N/A'] and not very effective against ['Rock', 'Steel']\n",
      "attack option: Vine Whip \tdamage: 0.54 \tThis attack is super effective against: ['Water', 'Ground', 'Rock'] and not very effective against ['Fire', 'Grass', 'Poison', 'Flying', 'Bug', 'Dragon', 'Steel']\n",
      "attack option: Razor Leaf \tdamage: 0.66 \tThis attack is super effective against: ['Water', 'Ground', 'Rock'] and not very effective against ['Fire', 'Grass', 'Poison', 'Flying', 'Bug', 'Dragon', 'Steel']\n",
      "\n",
      "Computer uses Tackle!\n",
      "\n",
      "Remaining HP: computer 36.3216, you 32.6928\n",
      "\n",
      "-----Your turn to attack!-----\n"
     ],
     "value": "Tackle"
    },
    {
     "name": "stdout",
     "output_type": "stream",
     "text": "Which attack would you like to use? ['Tackle', 'Vine Whip', 'Razor Leaf']  Tackle"
    },
    {
     "name": "stdout",
     "output_type": "stream",
     "text": [
      "Remaining HP: computer 34.6896, you 32.6928\n",
      "\n",
      "-----Opponent is attacking!-----\n",
      "attack option: Tackle \tdamage: 1.92 \tThis attack is super effective against: ['N/A'] and not very effective against ['Rock', 'Steel']\n",
      "attack option: Vine Whip \tdamage: 0.54 \tThis attack is super effective against: ['Water', 'Ground', 'Rock'] and not very effective against ['Fire', 'Grass', 'Poison', 'Flying', 'Bug', 'Dragon', 'Steel']\n",
      "attack option: Razor Leaf \tdamage: 0.66 \tThis attack is super effective against: ['Water', 'Ground', 'Rock'] and not very effective against ['Fire', 'Grass', 'Poison', 'Flying', 'Bug', 'Dragon', 'Steel']\n",
      "\n",
      "Computer uses Tackle!\n",
      "\n",
      "Remaining HP: computer 34.6896, you 30.9072\n",
      "\n",
      "-----Your turn to attack!-----\n"
     ]
    },
    {
     "name": "stdout",
     "output_type": "stream",
     "text": "Would you like to consult your Pokedex to determine which move is the best? (y / n) Tackle"
    },
    {
     "name": "stdout",
     "output_type": "stream",
     "text": "Which attack would you like to use? ['Tackle', 'Vine Whip', 'Razor Leaf']  Tackle"
    },
    {
     "name": "stdout",
     "output_type": "stream",
     "text": [
      "Remaining HP: computer 32.7696, you 30.9072\n",
      "\n",
      "-----Opponent is attacking!-----\n",
      "attack option: Tackle \tdamage: 1.92 \tThis attack is super effective against: ['N/A'] and not very effective against ['Rock', 'Steel']\n",
      "attack option: Vine Whip \tdamage: 0.54 \tThis attack is super effective against: ['Water', 'Ground', 'Rock'] and not very effective against ['Fire', 'Grass', 'Poison', 'Flying', 'Bug', 'Dragon', 'Steel']\n",
      "attack option: Razor Leaf \tdamage: 0.66 \tThis attack is super effective against: ['Water', 'Ground', 'Rock'] and not very effective against ['Fire', 'Grass', 'Poison', 'Flying', 'Bug', 'Dragon', 'Steel']\n",
      "\n",
      "Computer uses Tackle!\n",
      "\n",
      "Remaining HP: computer 32.7696, you 29.179199999999998\n",
      "\n",
      "-----Your turn to attack!-----\n"
     ]
    },
    {
     "name": "stdout",
     "output_type": "stream",
     "text": "Would you like to consult your Pokedex to determine which move is the best? (y / n) Tackle"
    },
    {
     "name": "stdout",
     "output_type": "stream",
     "text": "Which attack would you like to use? ['Tackle', 'Vine Whip', 'Razor Leaf']  Tackle"
    },
    {
     "name": "stdout",
     "output_type": "stream",
     "text": [
      "Remaining HP: computer 31.022399999999998, you 29.179199999999998\n",
      "\n",
      "-----Opponent is attacking!-----\n",
      "attack option: Tackle \tdamage: 1.92 \tThis attack is super effective against: ['N/A'] and not very effective against ['Rock', 'Steel']\n",
      "attack option: Vine Whip \tdamage: 0.54 \tThis attack is super effective against: ['Water', 'Ground', 'Rock'] and not very effective against ['Fire', 'Grass', 'Poison', 'Flying', 'Bug', 'Dragon', 'Steel']\n",
      "attack option: Razor Leaf \tdamage: 0.66 \tThis attack is super effective against: ['Water', 'Ground', 'Rock'] and not very effective against ['Fire', 'Grass', 'Poison', 'Flying', 'Bug', 'Dragon', 'Steel']\n",
      "\n",
      "Computer uses Tackle!\n",
      "\n",
      "Critical Hit!\n",
      "Remaining HP: computer 31.022399999999998, you 25.8768\n",
      "\n",
      "-----Your turn to attack!-----\n"
     ]
    },
    {
     "name": "stdout",
     "output_type": "stream",
     "text": "Would you like to consult your Pokedex to determine which move is the best? (y / n) "
    },
    {
     "name": "stdout",
     "output_type": "stream",
     "text": "Which attack would you like to use? ['Tackle', 'Vine Whip', 'Razor Leaf']  Tackle"
    },
    {
     "name": "stdout",
     "output_type": "stream",
     "text": [
      "Remaining HP: computer 29.1408, you 25.8768\n",
      "\n",
      "-----Opponent is attacking!-----\n",
      "attack option: Tackle \tdamage: 1.92 \tThis attack is super effective against: ['N/A'] and not very effective against ['Rock', 'Steel']\n",
      "attack option: Vine Whip \tdamage: 0.54 \tThis attack is super effective against: ['Water', 'Ground', 'Rock'] and not very effective against ['Fire', 'Grass', 'Poison', 'Flying', 'Bug', 'Dragon', 'Steel']\n",
      "attack option: Razor Leaf \tdamage: 0.66 \tThis attack is super effective against: ['Water', 'Ground', 'Rock'] and not very effective against ['Fire', 'Grass', 'Poison', 'Flying', 'Bug', 'Dragon', 'Steel']\n",
      "\n",
      "Computer uses Tackle!\n",
      "\n",
      "Remaining HP: computer 29.1408, you 24.072\n",
      "\n",
      "-----Your turn to attack!-----\n"
     ]
    },
    {
     "name": "stdout",
     "output_type": "stream",
     "text": "Would you like to consult your Pokedex to determine which move is the best? (y / n) Tackle"
    },
    {
     "name": "stdout",
     "output_type": "stream",
     "text": "Which attack would you like to use? ['Tackle', 'Vine Whip', 'Razor Leaf']  Tackle"
    },
    {
     "name": "stdout",
     "output_type": "stream",
     "text": [
      "Remaining HP: computer 27.2592, you 24.072\n",
      "\n",
      "-----Opponent is attacking!-----\n",
      "attack option: Tackle \tdamage: 1.92 \tThis attack is super effective against: ['N/A'] and not very effective against ['Rock', 'Steel']\n",
      "attack option: Vine Whip \tdamage: 0.54 \tThis attack is super effective against: ['Water', 'Ground', 'Rock'] and not very effective against ['Fire', 'Grass', 'Poison', 'Flying', 'Bug', 'Dragon', 'Steel']\n",
      "attack option: Razor Leaf \tdamage: 0.66 \tThis attack is super effective against: ['Water', 'Ground', 'Rock'] and not very effective against ['Fire', 'Grass', 'Poison', 'Flying', 'Bug', 'Dragon', 'Steel']\n",
      "\n",
      "Computer uses Tackle!\n",
      "\n",
      "Remaining HP: computer 27.2592, you 22.439999999999998\n",
      "\n",
      "-----Your turn to attack!-----\n"
     ]
    },
    {
     "name": "stdout",
     "output_type": "stream",
     "text": "Would you like to consult your Pokedex to determine which move is the best? (y / n) Tackle"
    },
    {
     "name": "stdout",
     "output_type": "stream",
     "text": "Which attack would you like to use? ['Tackle', 'Vine Whip', 'Razor Leaf']  Tackle"
    },
    {
     "name": "stdout",
     "output_type": "stream",
     "text": [
      "Remaining HP: computer 25.5888, you 22.439999999999998\n",
      "\n",
      "-----Opponent is attacking!-----\n",
      "attack option: Tackle \tdamage: 1.92 \tThis attack is super effective against: ['N/A'] and not very effective against ['Rock', 'Steel']\n",
      "attack option: Vine Whip \tdamage: 0.54 \tThis attack is super effective against: ['Water', 'Ground', 'Rock'] and not very effective against ['Fire', 'Grass', 'Poison', 'Flying', 'Bug', 'Dragon', 'Steel']\n",
      "attack option: Razor Leaf \tdamage: 0.66 \tThis attack is super effective against: ['Water', 'Ground', 'Rock'] and not very effective against ['Fire', 'Grass', 'Poison', 'Flying', 'Bug', 'Dragon', 'Steel']\n",
      "\n",
      "Computer uses Tackle!\n",
      "\n",
      "Remaining HP: computer 25.5888, you 20.6544\n",
      "\n",
      "-----Your turn to attack!-----\n"
     ]
    },
    {
     "name": "stdout",
     "output_type": "stream",
     "text": "Would you like to consult your Pokedex to determine which move is the best? (y / n) Tackle"
    },
    {
     "name": "stdout",
     "output_type": "stream",
     "text": "Which attack would you like to use? ['Tackle', 'Vine Whip', 'Razor Leaf']  Tackle"
    },
    {
     "name": "stdout",
     "output_type": "stream",
     "text": [
      "Remaining HP: computer 23.88, you 20.6544\n",
      "\n",
      "-----Opponent is attacking!-----\n",
      "attack option: Tackle \tdamage: 1.92 \tThis attack is super effective against: ['N/A'] and not very effective against ['Rock', 'Steel']\n",
      "attack option: Vine Whip \tdamage: 0.54 \tThis attack is super effective against: ['Water', 'Ground', 'Rock'] and not very effective against ['Fire', 'Grass', 'Poison', 'Flying', 'Bug', 'Dragon', 'Steel']\n",
      "attack option: Razor Leaf \tdamage: 0.66 \tThis attack is super effective against: ['Water', 'Ground', 'Rock'] and not very effective against ['Fire', 'Grass', 'Poison', 'Flying', 'Bug', 'Dragon', 'Steel']\n",
      "\n",
      "Computer uses Tackle!\n",
      "\n",
      "Remaining HP: computer 23.88, you 18.983999999999998\n",
      "\n",
      "-----Your turn to attack!-----\n"
     ]
    },
    {
     "name": "stdout",
     "output_type": "stream",
     "text": "Would you like to consult your Pokedex to determine which move is the best? (y / n) Tackle"
    },
    {
     "name": "stdout",
     "output_type": "stream",
     "text": "Which attack would you like to use? ['Tackle', 'Vine Whip', 'Razor Leaf']  Tackle"
    },
    {
     "name": "stdout",
     "output_type": "stream",
     "text": [
      "Remaining HP: computer 22.0944, you 18.983999999999998\n",
      "\n",
      "-----Opponent is attacking!-----\n",
      "attack option: Tackle \tdamage: 1.92 \tThis attack is super effective against: ['N/A'] and not very effective against ['Rock', 'Steel']\n",
      "attack option: Vine Whip \tdamage: 0.54 \tThis attack is super effective against: ['Water', 'Ground', 'Rock'] and not very effective against ['Fire', 'Grass', 'Poison', 'Flying', 'Bug', 'Dragon', 'Steel']\n",
      "attack option: Razor Leaf \tdamage: 0.66 \tThis attack is super effective against: ['Water', 'Ground', 'Rock'] and not very effective against ['Fire', 'Grass', 'Poison', 'Flying', 'Bug', 'Dragon', 'Steel']\n",
      "\n",
      "Computer uses Tackle!\n",
      "\n",
      "Critical Hit!\n",
      "Remaining HP: computer 22.0944, you 15.451199999999998\n",
      "\n",
      "-----Your turn to attack!-----\n"
     ]
    },
    {
     "name": "stdout",
     "output_type": "stream",
     "text": "Would you like to consult your Pokedex to determine which move is the best? (y / n) Tackle"
    },
    {
     "name": "stdout",
     "output_type": "stream",
     "text": "Which attack would you like to use? ['Tackle', 'Vine Whip', 'Razor Leaf']  Tackle"
    },
    {
     "name": "stdout",
     "output_type": "stream",
     "text": [
      "Remaining HP: computer 20.4624, you 15.451199999999998\n",
      "\n",
      "-----Opponent is attacking!-----\n",
      "attack option: Tackle \tdamage: 1.92 \tThis attack is super effective against: ['N/A'] and not very effective against ['Rock', 'Steel']\n",
      "attack option: Vine Whip \tdamage: 0.54 \tThis attack is super effective against: ['Water', 'Ground', 'Rock'] and not very effective against ['Fire', 'Grass', 'Poison', 'Flying', 'Bug', 'Dragon', 'Steel']\n",
      "attack option: Razor Leaf \tdamage: 0.66 \tThis attack is super effective against: ['Water', 'Ground', 'Rock'] and not very effective against ['Fire', 'Grass', 'Poison', 'Flying', 'Bug', 'Dragon', 'Steel']\n",
      "\n",
      "Computer uses Tackle!\n",
      "\n",
      "Remaining HP: computer 20.4624, you 13.703999999999999\n",
      "\n",
      "-----Your turn to attack!-----\n"
     ]
    },
    {
     "name": "stdout",
     "output_type": "stream",
     "text": "Would you like to consult your Pokedex to determine which move is the best? (y / n) Tackle"
    },
    {
     "name": "stdout",
     "output_type": "stream",
     "text": "Which attack would you like to use? ['Tackle', 'Vine Whip', 'Razor Leaf']  Tackle"
    },
    {
     "name": "stdout",
     "output_type": "stream",
     "text": [
      "Remaining HP: computer 18.734399999999997, you 13.703999999999999\n",
      "\n",
      "-----Opponent is attacking!-----\n",
      "attack option: Tackle \tdamage: 1.92 \tThis attack is super effective against: ['N/A'] and not very effective against ['Rock', 'Steel']\n",
      "attack option: Vine Whip \tdamage: 0.54 \tThis attack is super effective against: ['Water', 'Ground', 'Rock'] and not very effective against ['Fire', 'Grass', 'Poison', 'Flying', 'Bug', 'Dragon', 'Steel']\n",
      "attack option: Razor Leaf \tdamage: 0.66 \tThis attack is super effective against: ['Water', 'Ground', 'Rock'] and not very effective against ['Fire', 'Grass', 'Poison', 'Flying', 'Bug', 'Dragon', 'Steel']\n",
      "\n",
      "Computer uses Tackle!\n",
      "\n",
      "Remaining HP: computer 18.734399999999997, you 12.014399999999998\n",
      "\n",
      "-----Your turn to attack!-----\n"
     ]
    },
    {
     "name": "stdout",
     "output_type": "stream",
     "text": "Would you like to consult your Pokedex to determine which move is the best? (y / n) Tackle"
    },
    {
     "name": "stdout",
     "output_type": "stream",
     "text": "Which attack would you like to use? ['Tackle', 'Vine Whip', 'Razor Leaf']  Tackle"
    },
    {
     "name": "stdout",
     "output_type": "stream",
     "text": [
      "Remaining HP: computer 17.006399999999996, you 12.014399999999998\n",
      "\n",
      "-----Opponent is attacking!-----\n",
      "attack option: Tackle \tdamage: 1.92 \tThis attack is super effective against: ['N/A'] and not very effective against ['Rock', 'Steel']\n",
      "attack option: Vine Whip \tdamage: 0.54 \tThis attack is super effective against: ['Water', 'Ground', 'Rock'] and not very effective against ['Fire', 'Grass', 'Poison', 'Flying', 'Bug', 'Dragon', 'Steel']\n",
      "attack option: Razor Leaf \tdamage: 0.66 \tThis attack is super effective against: ['Water', 'Ground', 'Rock'] and not very effective against ['Fire', 'Grass', 'Poison', 'Flying', 'Bug', 'Dragon', 'Steel']\n",
      "\n",
      "Computer uses Tackle!\n",
      "\n",
      "Remaining HP: computer 17.006399999999996, you 10.363199999999999\n",
      "\n",
      "-----Your turn to attack!-----\n"
     ]
    },
    {
     "name": "stdout",
     "output_type": "stream",
     "text": "Would you like to consult your Pokedex to determine which move is the best? (y / n) Tackle"
    },
    {
     "name": "stdout",
     "output_type": "stream",
     "text": "Which attack would you like to use? ['Tackle', 'Vine Whip', 'Razor Leaf']  Tackle"
    },
    {
     "name": "stdout",
     "output_type": "stream",
     "text": [
      "Remaining HP: computer 15.278399999999996, you 10.363199999999999\n",
      "\n",
      "-----Opponent is attacking!-----\n",
      "attack option: Tackle \tdamage: 1.92 \tThis attack is super effective against: ['N/A'] and not very effective against ['Rock', 'Steel']\n",
      "attack option: Vine Whip \tdamage: 0.54 \tThis attack is super effective against: ['Water', 'Ground', 'Rock'] and not very effective against ['Fire', 'Grass', 'Poison', 'Flying', 'Bug', 'Dragon', 'Steel']\n",
      "attack option: Razor Leaf \tdamage: 0.66 \tThis attack is super effective against: ['Water', 'Ground', 'Rock'] and not very effective against ['Fire', 'Grass', 'Poison', 'Flying', 'Bug', 'Dragon', 'Steel']\n",
      "\n",
      "Computer uses Tackle!\n",
      "\n",
      "Remaining HP: computer 15.278399999999996, you 8.7312\n",
      "\n",
      "-----Your turn to attack!-----\n"
     ]
    },
    {
     "name": "stdout",
     "output_type": "stream",
     "text": "Would you like to consult your Pokedex to determine which move is the best? (y / n) "
    },
    {
     "name": "stdout",
     "output_type": "stream",
     "text": "Which attack would you like to use? ['Tackle', 'Vine Whip', 'Razor Leaf']  Tackle"
    },
    {
     "name": "stdout",
     "output_type": "stream",
     "text": "Would you like to consult your Pokedex to determine which move is the best? (y / n) "
    },
    {
     "name": "stdout",
     "output_type": "stream",
     "text": [
      "Remaining HP: computer 13.511999999999995, you 8.7312\n",
      "\n",
      "-----Opponent is attacking!-----\n",
      "attack option: Tackle \tdamage: 1.92 \tThis attack is super effective against: ['N/A'] and not very effective against ['Rock', 'Steel']\n",
      "attack option: Vine Whip \tdamage: 0.54 \tThis attack is super effective against: ['Water', 'Ground', 'Rock'] and not very effective against ['Fire', 'Grass', 'Poison', 'Flying', 'Bug', 'Dragon', 'Steel']\n",
      "attack option: Razor Leaf \tdamage: 0.66 \tThis attack is super effective against: ['Water', 'Ground', 'Rock'] and not very effective against ['Fire', 'Grass', 'Poison', 'Flying', 'Bug', 'Dragon', 'Steel']\n",
      "\n",
      "Computer uses Tackle!\n",
      "\n",
      "Critical Hit!\n",
      "Remaining HP: computer 13.511999999999995, you 5.0832\n",
      "\n",
      "-----Your turn to attack!-----\n"
     ],
     "value": "y"
    },
    {
     "name": "stdout",
     "output_type": "stream",
     "text": [
      "self.level:  1\n",
      "attack option: Tackle \tdamage: 1.92 \tThis attack is super effective against: ['N/A'] and not very effective against ['Rock', 'Steel']\n",
      "attack option: Vine Whip \tdamage: 0.54 \tThis attack is super effective against: ['Water', 'Ground', 'Rock'] and not very effective against ['Fire', 'Grass', 'Poison', 'Flying', 'Bug', 'Dragon', 'Steel']\n",
      "attack option: Razor Leaf \tdamage: 0.66 \tThis attack is super effective against: ['Water', 'Ground', 'Rock'] and not very effective against ['Fire', 'Grass', 'Poison', 'Flying', 'Bug', 'Dragon', 'Steel']\n"
     ]
    },
    {
     "name": "stdout",
     "output_type": "stream",
     "text": "Which attack would you like to use? ['Tackle', 'Vine Whip', 'Razor Leaf']  n"
    },
    {
     "name": "stdout",
     "output_type": "stream",
     "text": [
      "That's not a valid move for Bulbasaur!\n"
     ]
    },
    {
     "name": "stdout",
     "output_type": "stream",
     "text": "Which attack would you like to use? ['Tackle', 'Vine Whip', 'Razor Leaf']  Tackle"
    },
    {
     "name": "stdout",
     "output_type": "stream",
     "text": [
      "Remaining HP: computer 11.668799999999996, you 5.0832\n",
      "\n",
      "-----Opponent is attacking!-----\n",
      "attack option: Tackle \tdamage: 1.92 \tThis attack is super effective against: ['N/A'] and not very effective against ['Rock', 'Steel']\n",
      "attack option: Vine Whip \tdamage: 0.54 \tThis attack is super effective against: ['Water', 'Ground', 'Rock'] and not very effective against ['Fire', 'Grass', 'Poison', 'Flying', 'Bug', 'Dragon', 'Steel']\n",
      "attack option: Razor Leaf \tdamage: 0.66 \tThis attack is super effective against: ['Water', 'Ground', 'Rock'] and not very effective against ['Fire', 'Grass', 'Poison', 'Flying', 'Bug', 'Dragon', 'Steel']\n",
      "\n",
      "Computer uses Tackle!\n",
      "\n",
      "Remaining HP: computer 11.668799999999996, you 3.1632\n",
      "\n",
      "-----Your turn to attack!-----\n"
     ]
    },
    {
     "name": "stdout",
     "output_type": "stream",
     "text": "Would you like to consult your Pokedex to determine which move is the best? (y / n) n"
    },
    {
     "name": "stdout",
     "output_type": "stream",
     "text": "Which attack would you like to use? ['Tackle', 'Vine Whip', 'Razor Leaf']  Tackle"
    },
    {
     "name": "stdout",
     "output_type": "stream",
     "text": [
      "Critical Hit!\n",
      "Remaining HP: computer 8.020799999999996, you 3.1632\n",
      "\n",
      "-----Opponent is attacking!-----\n",
      "attack option: Tackle \tdamage: 1.92 \tThis attack is super effective against: ['N/A'] and not very effective against ['Rock', 'Steel']\n",
      "attack option: Vine Whip \tdamage: 0.54 \tThis attack is super effective against: ['Water', 'Ground', 'Rock'] and not very effective against ['Fire', 'Grass', 'Poison', 'Flying', 'Bug', 'Dragon', 'Steel']\n",
      "attack option: Razor Leaf \tdamage: 0.66 \tThis attack is super effective against: ['Water', 'Ground', 'Rock'] and not very effective against ['Fire', 'Grass', 'Poison', 'Flying', 'Bug', 'Dragon', 'Steel']\n",
      "\n",
      "Computer uses Tackle!\n",
      "\n",
      "Remaining HP: computer 8.020799999999996, you 1.2431999999999999\n",
      "\n",
      "-----Your turn to attack!-----\n"
     ]
    },
    {
     "name": "stdout",
     "output_type": "stream",
     "text": "Would you like to consult your Pokedex to determine which move is the best? (y / n) n"
    },
    {
     "name": "stdout",
     "output_type": "stream",
     "text": "Which attack would you like to use? ['Tackle', 'Vine Whip', 'Razor Leaf']  Tackle"
    },
    {
     "name": "stdout",
     "output_type": "stream",
     "text": [
      "Remaining HP: computer 6.369599999999996, you 1.2431999999999999\n",
      "\n",
      "-----Opponent is attacking!-----\n",
      "attack option: Tackle \tdamage: 1.92 \tThis attack is super effective against: ['N/A'] and not very effective against ['Rock', 'Steel']\n",
      "attack option: Vine Whip \tdamage: 0.54 \tThis attack is super effective against: ['Water', 'Ground', 'Rock'] and not very effective against ['Fire', 'Grass', 'Poison', 'Flying', 'Bug', 'Dragon', 'Steel']\n",
      "attack option: Razor Leaf \tdamage: 0.66 \tThis attack is super effective against: ['Water', 'Ground', 'Rock'] and not very effective against ['Fire', 'Grass', 'Poison', 'Flying', 'Bug', 'Dragon', 'Steel']\n",
      "\n",
      "Computer uses Tackle!\n",
      "\n",
      "Remaining HP: computer 6.369599999999996, you -0.6576\n",
      "Uh oh! You just got knocked out by Bulbasaur!\n"
     ]
    },
    {
     "name": "stderr",
     "output_type": "stream",
     "text": [
      "WARNING: Some output was deleted.\n"
     ]
    }
   ],
   "source": [
    "# newer newer version\n",
    "#\n",
    "# this version makes level a factor in the damage (previous version was wrong)\n",
    "# if you are going to change anything make a copy to prevent losing something that works\n",
    "# I worked a lot with self. and opponent. - if you change any of them lmk\n",
    "#\n",
    "\n",
    "import random as rand\n",
    "\n",
    "class Pokemon:\n",
    "    '''Create a pokemon class'''\n",
    "    def __init__(self, character, HP, experience, level):\n",
    "        self.character = character\n",
    "        self.HP = HP\n",
    "        self.experience = experience\n",
    "        self.level = level\n",
    "\n",
    "    def battle(self, opponent):\n",
    "        print(f\"Your hitpoints: {self.HP}, Computer's hitpoints: {opponent.HP}\")\n",
    "        print(f\"Your speed: {CHARACTERS[self.character]['Speed']}, Computer's speed: {CHARACTERS[opponent.character]['Speed']}\")\n",
    "        if CHARACTERS[opponent.character]['Speed'] > CHARACTERS[self.character]['Speed']: # this if/else statement determines who attacks first and carries out the battle\n",
    "            print('Computer attacks first!')\n",
    "            while self.HP > 0 and opponent.HP > 0:\n",
    "                opponent.computer_attack(self)\n",
    "                if self.HP > 0:\n",
    "                    self.player_attack(opponent)\n",
    "        else:\n",
    "            print('You attack first!')\n",
    "            while self.HP > 0 and opponent.HP > 0:\n",
    "                self.player_attack(opponent)\n",
    "                if opponent.HP > 0:\n",
    "                    opponent.computer_attack(self)\n",
    "        if opponent.HP <= 0:\n",
    "            players_pokemon.append((opponent.character, 1))\n",
    "            print(f'Congratulations! You just knocked out {opponent.character}!')\n",
    "            print('Your pokemon are:', players_pokemon)\n",
    "            name, previous_exp = players_pokemon.pop(players_pokemon.index((self.character, self.experience)))\n",
    "            self.experience += opponent.experience\n",
    "            players_pokemon.append((name, self.experience))\n",
    "            print(f'Your pokemon, {self.character}, just gained {opponent.experience} experience points!')\n",
    "            return players_pokemon, False\n",
    "        if self.HP <= 0:\n",
    "            print(f'Uh oh! You just got knocked out by {opponent.character}!')\n",
    "            players_pokemon.remove((self.character, self.experience))\n",
    "            print('Your remaining pokemon are', players_pokemon)\n",
    "            return players_pokemon, True\n",
    "        print('You broke the game')\n",
    "    \n",
    "    def player_attack(self, opponent):\n",
    "        print('\\n-----Your turn to attack!-----')\n",
    "        if input('Would you like to consult your Pokedex to determine which move is the best? (y / n)').lower() == 'y':\n",
    "            print('self.level: ', self.level)\n",
    "            self.best_attack(CHARACTERS[self.character]['Moves'], opponent)\n",
    "        \n",
    "        attack = input(f'Which attack would you like to use? {CHARACTERS[self.character][\"Moves\"]} ').title()\n",
    "        \n",
    "        while attack not in CHARACTERS[self.character]['Moves']:\n",
    "            print(f\"That's not a valid move for {self.character}!\")\n",
    "            attack = input(f'Which attack would you like to use? {CHARACTERS[self.character][\"Moves\"]} ').title()\n",
    "        \n",
    "        opponent.HP -= self.calculate_damage(self, attack, opponent, True)\n",
    "        print(f'Remaining HP: computer {opponent.HP}, you {self.HP}')\n",
    "    \n",
    "    def computer_attack(self, opponent):\n",
    "        print('\\n-----Opponent is attacking!-----')\n",
    "#         print(CHARACTERS[opponent.character])\n",
    "#         attack = CHARACTERS[opponent.character]['Moves'][0]               # THIS LINE WILL PICK THE FIRST ATTACK IN A CHARACTER'S LIST\n",
    "#         attack = rand.choice(CHARACTERS[opponent.character]['Moves'])     # THIS LINE WILL PICK A RANDOM ATTACK FOR THE COMPUTER TO CARRY OUT\n",
    "        attack = self.best_attack(CHARACTERS[self.character]['Moves'], opponent)\n",
    "        print(f'\\nComputer uses {attack}!\\n')\n",
    "        opponent.HP -= self.calculate_damage(self, attack, opponent, True)\n",
    "        print(f'Remaining HP: computer {self.HP}, you {opponent.HP}')\n",
    "    \n",
    "    def best_attack(self, moves, opponent):\n",
    "        best_damage = 0\n",
    "        for move in moves: # this for loop checks to determine which attack the computer can make will be the best\n",
    "            damage = self.calculate_damage(self, move, opponent, False) # False means no critical hits nad no random modifier\n",
    "            if damage > best_damage:\n",
    "                bestest_attack = move\n",
    "                best_damage = damage\n",
    "            print(f'attack option: {move} \\tdamage: {damage:.2f} \\tThis attack is super effective against: {MOVES_DICTIONARY[move][\"super effective against\"]} and not very effective against {MOVES_DICTIONARY[move][\"not very effective against\"]}')\n",
    "        return bestest_attack\n",
    "    \n",
    "    def calculate_damage(self, attacker, attack, defender, need_random):\n",
    "        crit = 1\n",
    "        if need_random: # need_random IS TRUE FOR ALL BATTLES, FALSE FOR DETERMINING COMPUTER'S BEST ATTACK OPTION\n",
    "            num = rand.randint(85, 100) / 100 # randint is inclusive\n",
    "            if rand.randint(1, 512) <= CHARACTERS[attacker.character]['Speed']:\n",
    "                crit = 2\n",
    "                print('Critical Hit!')\n",
    "        else:\n",
    "            num = 1\n",
    "        \n",
    "        effective = 1\n",
    "        for defender_type in CHARACTERS[defender.character]['Type']: # changed this\n",
    "            if defender_type in MOVES_DICTIONARY[attack]['super effective against']:\n",
    "                effective *= 2\n",
    "            if defender_type in MOVES_DICTIONARY[attack]['not very effective against']:\n",
    "                effective /= 2\n",
    "        modifier = num * crit * effective\n",
    "#         print('attack level', attacker.level)\n",
    "#         print('defender level', defender.level)\n",
    "#         print(self.level)\n",
    "        return (2/5 * attacker.level + 2)* POWERS[attack] * CHARACTERS[defender.character]['Attack'] / CHARACTERS[defender.character]['Defense'] * modifier / 50\n",
    "    \n",
    "    def update_level(self):\n",
    "        self.level = int(self.experience ** 1./3)\n",
    "    \n",
    "    def __str__(self):\n",
    "        return f\"{CHARACTERS[self.character]['Type']} is a Pokemon. \"\n",
    "\n",
    "def pick_a_pokemon(pokemon_options):\n",
    "    print(\"Pick one pokemon to fight with: \", pokemon_options)\n",
    "    name = input('Which Pokemon would you like to be?').title()\n",
    "    name_options = []\n",
    "    print(pokemon_options)\n",
    "    for char, level in pokemon_options:\n",
    "        name_options.append(char)\n",
    "    while name not in name_options:\n",
    "        print(name, 'is not one of the valid pokemons.')\n",
    "        name = input(f'Which Pokemon would you like to be? {pokemon_options}').title()\n",
    "    return name\n",
    "\n",
    "def computers_pokemon():\n",
    "    #randomly select computer's character from the fourteen characters\n",
    "    computer_characters = []\n",
    "    for name in CHARACTERS:\n",
    "        computer_characters.append(name)\n",
    "    enemy = rand.choice(computer_characters)\n",
    "    enemy = 'Bulbasaur'\n",
    "    return enemy\n",
    "\n",
    "\n",
    "starting_pokemon_options = ['Bulbasaur', 'Charmander', 'Squirtle']\n",
    "print(\"Pick one pokemon to fight with: \", starting_pokemon_options)\n",
    "name = input('Which Pokemon would you like to be?').title()\n",
    "players_pokemon = [(name, 1)]\n",
    "pokemon_list = []\n",
    "\n",
    "while len(set(pokemon_list)) < 14:\n",
    "    enemy = computers_pokemon()\n",
    "    Computer = Pokemon(enemy, CHARACTERS[enemy]['HP'], CHARACTERS[enemy]['Experience'], 1)\n",
    "    print('players pokemon', players_pokemon)\n",
    "    name = pick_a_pokemon(players_pokemon)\n",
    "    fighter = Pokemon(name, CHARACTERS[name]['HP'], CHARACTERS[name]['Experience'], 1)\n",
    "    fighter.battle(Computer)\n",
    "    if pokemon_died:\n",
    "        break\n",
    "    pokemon_list = []\n",
    "    for pokemon in players_pokemon:\n",
    "        pokemon_list.append(pokemon[0])\n",
    "\n",
    "if len(set(pokemon_list)) == 14:\n",
    "    print(\"You caught 'em all!!! ;)\")\n",
    "print('The game is over')"
   ]
  },
  {
   "cell_type": "markdown",
   "metadata": {
    "collapsed": false
   },
   "source": [
    "    #'Bulbasaur': {'Type': ['Grass', 'Poison'], 'HP': 45, 'Moves': ['Tackle', 'Vine Whip', 'Razor Leaf'], 'Attack': 49, 'Defense': 49, 'Speed': 45, 'Experience': 64},\n",
    "#when player won\n",
    "print(CHARACTERS[enemy]['Experience'])\n",
    "if Henry.character == Computer.character:\n",
    "    Henry.experience += Computer.experience\n"
   ]
  },
  {
   "cell_type": "markdown",
   "metadata": {
    "collapsed": false
   },
   "source": [
    "Things we still need to do:\n",
    "\n",
    "experience points need to be transferred between pokemon --- Done\n",
    "\n",
    "if pokemon is killed need to remove it -- Done\n",
    "\n",
    "have list of tuples of the player's starting pokemon - pokemon starts with 1 exp point --- Done\n",
    "\n",
    "player needs to be able to choose to run away or fight\n",
    "\n",
    "pycodestyle linter\n",
    "\n",
    "docstrings\n"
   ]
  },
  {
   "cell_type": "code",
   "execution_count": 18,
   "metadata": {
    "cocalc": {
     "outputs": {
      "0": {
       "name": "input",
       "opts": {
        "password": false,
        "prompt": "Which Pokemon would you like to fight with?"
       },
       "output_type": "stream"
      },
      "1": {
       "name": "input",
       "opts": {
        "password": false,
        "prompt": "Which Pokemon would you like to fight with?"
       },
       "output_type": "stream"
      },
      "10": {
       "name": "input",
       "opts": {
        "password": false,
        "prompt": "Which attack would you like to use? ['Tackle', 'Vine Whip', 'Razor Leaf'] "
       },
       "output_type": "stream",
       "value": "razor leaf"
      },
      "3": {
       "name": "input",
       "opts": {
        "password": false,
        "prompt": "Which Pokemon would you like to fight with?"
       },
       "output_type": "stream",
       "value": "Bulbasaur"
      },
      "5": {
       "name": "input",
       "opts": {
        "password": false,
        "prompt": "Would you like to consult your Pokedex to determine which move is the best? (y / n)"
       },
       "output_type": "stream",
       "value": "n"
      },
      "6": {
       "name": "input",
       "opts": {
        "password": false,
        "prompt": "Which attack would you like to use? ['Tackle', 'Vine Whip', 'Razor Leaf'] "
       },
       "output_type": "stream",
       "value": "Tackle"
      },
      "8": {
       "name": "input",
       "opts": {
        "password": false,
        "prompt": "Would you like to consult your Pokedex to determine which move is the best? (y / n)"
       },
       "output_type": "stream",
       "value": "y"
      }
     }
    },
    "collapsed": false,
    "scrolled": true
   },
   "outputs": [
    {
     "name": "stdout",
     "output_type": "stream",
     "text": "Which Pokemon would you like to fight with? "
    },
    {
     "name": "stdout",
     "output_type": "stream",
     "text": [
      "Your pokemon are: ['Bulbasaur', 'Charmander', 'Squirtle']\n"
     ],
     "value": "Bulbasaur"
    },
    {
     "name": "stdout",
     "output_type": "stream",
     "text": [
      "\n",
      "Here're its detailed descriptions:  {'Bulbasaur': {'Type': ['Grass', 'Poison'], 'HP': 45, 'Moves': ['Tackle', 'Vine Whip', 'Razor Leaf'], 'Attack': 49, 'Defense': 49, 'Speed': 45, 'Experience': 1000000, 'level': 100}}\n",
      "Your enemy is: Golem\n",
      "Your pokemon are: ['Bulbasaur']\n"
     ]
    },
    {
     "name": "stdout",
     "output_type": "stream",
     "text": "Which Pokemon would you like to fight with? Bulbasaur"
    },
    {
     "name": "stdout",
     "output_type": "stream",
     "text": [
      "Your hitpoints: 45, Computer's hitpoints: 80\n",
      "Your speed: 45, Computer's speed: 45\n",
      "You attack first!\n",
      "\n",
      "-----Your turn to attack!-----\n"
     ]
    },
    {
     "name": "stdout",
     "output_type": "stream",
     "text": "Would you like to consult your Pokedex to determine which move is the best? (y / n) n"
    },
    {
     "name": "stdout",
     "output_type": "stream",
     "text": "Which attack would you like to use? ['Tackle', 'Vine Whip', 'Razor Leaf']  Tackle"
    },
    {
     "name": "stdout",
     "output_type": "stream",
     "text": [
      "Critical Hit!\n",
      "Remaining HP: computer 52.08615384615385, you 45\n",
      "\n",
      "-----Opponent is attacking!-----\n",
      "attack option: Tackle \tdamage: 3.52 \tThis attack is super effective against: ['N/A'] and not very effective against ['Rock', 'Steel']\n",
      "attack option: Rock Throw \tdamage: 4.40 \tThis attack is super effective against: ['Fire', 'Ice', 'Flying', 'Bug'] and not very effective against ['Fighting', 'Ground', 'Steel']\n",
      "attack option: Rock Slide \tdamage: 6.60 \tThis attack is super effective against: ['Fire', 'Ice', 'Flying', 'Bug'] and not very effective against ['Fighting', 'Ground', 'Steel']\n",
      "attack option: Earthquake \tdamage: 8.80 \tThis attack is super effective against: ['Fire', 'Electric', 'Poison', 'Rock', 'Steel'] and not very effective against ['Grass', 'Bug']\n",
      "\n",
      "Computer uses Earthquake!\n",
      "\n",
      "Remaining HP: computer 52.08615384615385, you 37.344\n",
      "\n",
      "-----Your turn to attack!-----\n"
     ]
    },
    {
     "name": "stdout",
     "output_type": "stream",
     "text": "Would you like to consult your Pokedex to determine which move is the best? (y / n) y"
    },
    {
     "name": "stdout",
     "output_type": "stream",
     "text": [
      "attack option: Tackle \tdamage: 15.51 \tThis attack is super effective against: ['N/A'] and not very effective against ['Rock', 'Steel']\n",
      "attack option: Vine Whip \tdamage: 139.57 \tThis attack is super effective against: ['Water', 'Ground', 'Rock'] and not very effective against ['Fire', 'Grass', 'Poison', 'Flying', 'Bug', 'Dragon', 'Steel']\n",
      "attack option: Razor Leaf \tdamage: 170.58 \tThis attack is super effective against: ['Water', 'Ground', 'Rock'] and not very effective against ['Fire', 'Grass', 'Poison', 'Flying', 'Bug', 'Dragon', 'Steel']\n"
     ]
    },
    {
     "name": "stdout",
     "output_type": "stream",
     "text": "Which attack would you like to use? ['Tackle', 'Vine Whip', 'Razor Leaf']  razor leaf"
    },
    {
     "name": "stdout",
     "output_type": "stream",
     "text": [
      "Remaining HP: computer -109.96923076923076, you 37.344\n",
      "Congratulations! You just knocked out Golem!\n"
     ]
    },
    {
     "ename": "NameError",
     "evalue": "name 'player_pokemon_option' is not defined",
     "output_type": "error",
     "traceback": [
      "\u001b[0;31m---------------------------------------------------------------------------\u001b[0m",
      "\u001b[0;31mNameError\u001b[0m                                 Traceback (most recent call last)",
      "\u001b[0;32m<ipython-input-18-e2ae6b10a773>\u001b[0m in \u001b[0;36m<module>\u001b[0;34m()\u001b[0m\n\u001b[1;32m    194\u001b[0m         \u001b[0mprint\u001b[0m\u001b[0;34m(\u001b[0m\u001b[0;34m\"Your pokemon died before you caught 'em all :(\"\u001b[0m\u001b[0;34m)\u001b[0m\u001b[0;34m\u001b[0m\u001b[0m\n\u001b[1;32m    195\u001b[0m \u001b[0;34m\u001b[0m\u001b[0m\n\u001b[0;32m--> 196\u001b[0;31m \u001b[0mplay_pokemon\u001b[0m\u001b[0;34m(\u001b[0m\u001b[0;34m)\u001b[0m\u001b[0;34m\u001b[0m\u001b[0m\n\u001b[0m",
      "\u001b[0;32m<ipython-input-18-e2ae6b10a773>\u001b[0m in \u001b[0;36mplay_pokemon\u001b[0;34m()\u001b[0m\n\u001b[1;32m    179\u001b[0m \u001b[0;34m\u001b[0m\u001b[0m\n\u001b[1;32m    180\u001b[0m         \u001b[0mComputer\u001b[0m \u001b[0;34m=\u001b[0m \u001b[0mPokemon\u001b[0m\u001b[0;34m(\u001b[0m\u001b[0menemy\u001b[0m\u001b[0;34m,\u001b[0m \u001b[0mCHARACTERS\u001b[0m\u001b[0;34m[\u001b[0m\u001b[0menemy\u001b[0m\u001b[0;34m]\u001b[0m\u001b[0;34m[\u001b[0m\u001b[0;34m'HP'\u001b[0m\u001b[0;34m]\u001b[0m\u001b[0;34m,\u001b[0m \u001b[0mCHARACTERS\u001b[0m\u001b[0;34m[\u001b[0m\u001b[0menemy\u001b[0m\u001b[0;34m]\u001b[0m\u001b[0;34m[\u001b[0m\u001b[0;34m'Experience'\u001b[0m\u001b[0;34m]\u001b[0m\u001b[0;34m,\u001b[0m \u001b[0mround\u001b[0m\u001b[0;34m(\u001b[0m\u001b[0mCHARACTERS\u001b[0m\u001b[0;34m[\u001b[0m\u001b[0menemy\u001b[0m\u001b[0;34m]\u001b[0m\u001b[0;34m[\u001b[0m\u001b[0;34m'Experience'\u001b[0m\u001b[0;34m]\u001b[0m \u001b[0;34m**\u001b[0m \u001b[0;34m(\u001b[0m\u001b[0;36m1.\u001b[0m\u001b[0;34m/\u001b[0m\u001b[0;36m3.\u001b[0m\u001b[0;34m)\u001b[0m\u001b[0;34m)\u001b[0m\u001b[0;34m)\u001b[0m\u001b[0;34m\u001b[0m\u001b[0m\n\u001b[0;32m--> 181\u001b[0;31m         \u001b[0moutcome\u001b[0m \u001b[0;34m=\u001b[0m \u001b[0mplayer\u001b[0m\u001b[0;34m.\u001b[0m\u001b[0mbattle\u001b[0m\u001b[0;34m(\u001b[0m\u001b[0mComputer\u001b[0m\u001b[0;34m)\u001b[0m\u001b[0;34m\u001b[0m\u001b[0m\n\u001b[0m\u001b[1;32m    182\u001b[0m         \u001b[0;32mif\u001b[0m \u001b[0moutcome\u001b[0m \u001b[0;34m==\u001b[0m \u001b[0;34m'lose'\u001b[0m\u001b[0;34m:\u001b[0m\u001b[0;34m\u001b[0m\u001b[0m\n\u001b[1;32m    183\u001b[0m             \u001b[0;32mbreak\u001b[0m\u001b[0;34m\u001b[0m\u001b[0m\n",
      "\u001b[0;32m<ipython-input-18-e2ae6b10a773>\u001b[0m in \u001b[0;36mbattle\u001b[0;34m(self, opponent)\u001b[0m\n\u001b[1;32m     38\u001b[0m         \u001b[0;32mif\u001b[0m \u001b[0mopponent\u001b[0m\u001b[0;34m.\u001b[0m\u001b[0mHP\u001b[0m \u001b[0;34m<=\u001b[0m \u001b[0;36m0\u001b[0m\u001b[0;34m:\u001b[0m\u001b[0;34m\u001b[0m\u001b[0m\n\u001b[1;32m     39\u001b[0m             \u001b[0mprint\u001b[0m\u001b[0;34m(\u001b[0m\u001b[0;34mf'Congratulations! You just knocked out {opponent.character}!'\u001b[0m\u001b[0;34m)\u001b[0m\u001b[0;34m\u001b[0m\u001b[0m\n\u001b[0;32m---> 40\u001b[0;31m             \u001b[0mplayer_pokemon_option\u001b[0m\u001b[0;34m[\u001b[0m\u001b[0menemy\u001b[0m\u001b[0;34m]\u001b[0m \u001b[0;34m=\u001b[0m \u001b[0mCHARACTERS\u001b[0m\u001b[0;34m[\u001b[0m\u001b[0menemy\u001b[0m\u001b[0;34m]\u001b[0m\u001b[0;34m\u001b[0m\u001b[0m\n\u001b[0m\u001b[1;32m     41\u001b[0m             \u001b[0mplayer_pokemon_option\u001b[0m\u001b[0;34m[\u001b[0m\u001b[0mplayer_pokemon\u001b[0m\u001b[0;34m]\u001b[0m\u001b[0;34m[\u001b[0m\u001b[0;34m'Experience'\u001b[0m\u001b[0;34m]\u001b[0m \u001b[0;34m+=\u001b[0m \u001b[0mCHARACTERS\u001b[0m\u001b[0;34m[\u001b[0m\u001b[0menemy\u001b[0m\u001b[0;34m]\u001b[0m\u001b[0;34m[\u001b[0m\u001b[0;34m\"Experience\"\u001b[0m\u001b[0;34m]\u001b[0m\u001b[0;34m\u001b[0m\u001b[0m\n\u001b[1;32m     42\u001b[0m             \u001b[0mplayer_pokemon_option\u001b[0m\u001b[0;34m[\u001b[0m\u001b[0mplayer_pokemon\u001b[0m\u001b[0;34m]\u001b[0m\u001b[0;34m[\u001b[0m\u001b[0;34m'level'\u001b[0m\u001b[0;34m]\u001b[0m \u001b[0;34m=\u001b[0m \u001b[0mself\u001b[0m\u001b[0;34m.\u001b[0m\u001b[0mupdate_level\u001b[0m\u001b[0;34m(\u001b[0m\u001b[0mplayer_pokemon_option\u001b[0m\u001b[0;34m[\u001b[0m\u001b[0mplayer_pokemon\u001b[0m\u001b[0;34m]\u001b[0m\u001b[0;34m[\u001b[0m\u001b[0;34m'Experience'\u001b[0m\u001b[0;34m]\u001b[0m\u001b[0;34m)\u001b[0m\u001b[0;34m\u001b[0m\u001b[0m\n",
      "\u001b[0;31mNameError\u001b[0m: name 'player_pokemon_option' is not defined"
     ]
    }
   ],
   "source": [
    "#Best version (that actually works)\n",
    "\n",
    "import random as rand\n",
    "\n",
    "class Pokemon:\n",
    "    '''Create a pokemon class'''\n",
    "    def __init__(self, character, HP, experience, level):\n",
    "        self.character = character\n",
    "        self.HP = HP\n",
    "        self.experience = experience\n",
    "        self.level = level\n",
    "    \n",
    "    def battle(self, opponent):\n",
    "        '''battle function'''\n",
    "        print(f\"Your hitpoints: {self.HP}, Computer's hitpoints: {opponent.HP}\")\n",
    "        print(f\"Your speed: {CHARACTERS[self.character]['Speed']}, Computer's speed: {CHARACTERS[opponent.character]['Speed']}\")\n",
    "        '''\n",
    "        determines which side attacks first basing on speed\n",
    "        '''\n",
    "        if CHARACTERS[opponent.character]['Speed'] > CHARACTERS[self.character]['Speed']:\n",
    "            print('Computer attacks first!')\n",
    "            '''\n",
    "            two sides attack alternatively\n",
    "            '''\n",
    "            while self.HP > 0 and opponent.HP > 0:\n",
    "                opponent.computer_attack(self)\n",
    "                if self.HP > 0:\n",
    "                    self.player_attack(opponent)\n",
    "        else:\n",
    "            print('You attack first!')\n",
    "            while self.HP > 0 and opponent.HP > 0:\n",
    "                self.player_attack(opponent)\n",
    "                if opponent.HP > 0:\n",
    "                    opponent.computer_attack(self)\n",
    "        '''\n",
    "        Player wins. Add opponent pokemon's experience to player pokemon. Update player pokemon's level. The player gains the initialized opponent's pokemon (Experience = 0) as well.\n",
    "        '''\n",
    "        if opponent.HP <= 0:\n",
    "            print(f'Congratulations! You just knocked out {opponent.character}!')\n",
    "            player_pokemon_option[enemy] = CHARACTERS[enemy]\n",
    "            player_pokemon_option[player_pokemon]['Experience'] += CHARACTERS[enemy][\"Experience\"]\n",
    "            player_pokemon_option[player_pokemon]['level'] = self.update_level(player_pokemon_option[player_pokemon]['Experience'])\n",
    "            player_pokemon_option[enemy]['Experience'] = 0\n",
    "            player_pokemon_option[enemy]['level'] = 1\n",
    "            print(f'Your pokemon, {self.character}, just gained {opponent.experience} experience points!')\n",
    "            return 'win'\n",
    "        '''\n",
    "        Computer wins. The player will not have access to the lost pokemon. \n",
    "        '''\n",
    "        if self.HP <= 0:\n",
    "            print(f'Uh oh! You just got knocked out by {opponent.character}!')\n",
    "            del player_pokemon_option[player_pokemon]\n",
    "            return 'lose'\n",
    "    \n",
    "    def player_attack(self, opponent):\n",
    "        '''\n",
    "        Player's attack. Provide suggestions about which move to choose. Update opponent's HP after attack. \n",
    "        '''\n",
    "        print('\\n-----Your turn to attack!-----')\n",
    "        if input('Would you like to consult your Pokedex to determine which move is the best? (y / n)').lower() == 'y':\n",
    "            self.best_attack(CHARACTERS[self.character]['Moves'], opponent)\n",
    "        attack = input(f'Which attack would you like to use? {CHARACTERS[self.character][\"Moves\"]} ').title()\n",
    "        while attack not in CHARACTERS[self.character]['Moves']:\n",
    "            print(f\"That's not a valid move for {self.character}!\")\n",
    "            attack = input(f'Which attack would you like to use? {CHARACTERS[self.character][\"Moves\"]} ').title()\n",
    "        opponent.HP -= self.calculate_damage(self, attack, opponent, True)\n",
    "        print(f'Remaining HP: computer {opponent.HP}, you {self.HP}')\n",
    "        \n",
    "    \n",
    "    def computer_attack(self, opponent):\n",
    "        '''\n",
    "        Computer's attack. Computer chooses the best attack against the player. Update player's HP after attack. \n",
    "        '''\n",
    "        print('\\n-----Opponent is attacking!-----')\n",
    "        attack = self.best_attack(CHARACTERS[self.character]['Moves'], opponent)\n",
    "        print(f'\\nComputer uses {attack}!\\n')\n",
    "        opponent.HP -= self.calculate_damage(self, attack, opponent, True)\n",
    "        print(f'Remaining HP: computer {self.HP}, you {opponent.HP}')\n",
    "    \n",
    "    def best_attack(self, moves, opponent):\n",
    "        '''\n",
    "        Determines the best attack for the computer's pokemon against the player \n",
    "        '''\n",
    "        best_damage = 0\n",
    "        for move in moves: \n",
    "            damage = self.calculate_damage(self, move, opponent, False) # False means no critical hits nad no random modifier\n",
    "            if damage > best_damage:\n",
    "                bestest_attack = move\n",
    "                best_damage = damage\n",
    "            print(f'attack option: {move} \\tdamage: {damage:.2f} \\tThis attack is super effective against: {MOVES_DICTIONARY[move][\"super effective against\"]} and not very effective against {MOVES_DICTIONARY[move][\"not very effective against\"]}')\n",
    "        return bestest_attack\n",
    "    \n",
    "    def calculate_damage(self, attacker, attack, defender, need_random):\n",
    "        '''\n",
    "        Calculate the value of damage\n",
    "        '''\n",
    "        crit = 1\n",
    "        if need_random: # need_random IS TRUE FOR ALL BATTLES, FALSE FOR DETERMINING COMPUTER'S BEST ATTACK OPTION\n",
    "            num = rand.randint(85, 100) / 100 # randint is inclusive\n",
    "            if rand.randint(1, 512) <= CHARACTERS[attacker.character]['Speed']:\n",
    "                crit = 2\n",
    "                print('Critical Hit!')\n",
    "        else:\n",
    "            num = 1\n",
    "        \n",
    "        effective = 1\n",
    "        for defender_type in CHARACTERS[defender.character]['Type']: # changed this\n",
    "            if defender_type in MOVES_DICTIONARY[attack]['super effective against']:\n",
    "                effective *= 2\n",
    "            if defender_type in MOVES_DICTIONARY[attack]['not very effective against']:\n",
    "                effective /= 2\n",
    "        modifier = num * crit * effective\n",
    "#         print('attack level', attacker.level)\n",
    "#         print('defender level', defender.level)\n",
    "#         print('self.level', self.level)\n",
    "        return (2/5 * attacker.level + 2)* POWERS[attack] * CHARACTERS[defender.character]['Attack'] / CHARACTERS[defender.character]['Defense'] * modifier / 50\n",
    "    \n",
    "    def update_level(self, experience):\n",
    "        '''\n",
    "        Update level based on the current value of experience\n",
    "        '''\n",
    "        self.level = round(experience ** (1./3.))\n",
    "        return self.level\n",
    "    \n",
    "    def __str__(self):\n",
    "        return f\"{CHARACTERS[self.character]['Type']} is a Pokemon. \"\n",
    "\n",
    "\n",
    "\n",
    "def pick_a_pokemon(pokemon_options):\n",
    "    '''\n",
    "    Ask the player to choose an available pokemon for them\n",
    "    '''\n",
    "    name_options = []\n",
    "    for char in pokemon_options:\n",
    "        name_options.append(char)\n",
    "    print(\"Your pokemon are:\", name_options)\n",
    "    name = input('Which Pokemon would you like to fight with?').title()\n",
    "    while name not in name_options:\n",
    "        print(name, 'is not one of the valid pokemons.')\n",
    "        name = input(f'Which Pokemon would you like to be? {name_options}').title()\n",
    "    return name\n",
    "\n",
    "\n",
    "def computers_pokemon():\n",
    "    '''\n",
    "    randomly select computer's character from the fourteen characters\n",
    "    '''\n",
    "    computer_characters = []\n",
    "    for name in CHARACTERS:\n",
    "        computer_characters.append(name)\n",
    "    enemy = rand.choice(computer_characters)\n",
    "    return enemy\n",
    "\n",
    "def play_pokemon():\n",
    "    '''\n",
    "    player picks the first pokemon\n",
    "    '''\n",
    "    starting_pokemon_options = ['Bulbasaur', 'Charmander', 'Squirtle']\n",
    "    name = pick_a_pokemon(starting_pokemon_options)\n",
    "    player_pokemon_option = {}\n",
    "    player_pokemon_option[name] = CHARACTERS[name]\n",
    "    player_pokemon_option[name]['Experience'] = 1000000\n",
    "    player_pokemon_option[name]['level'] = 100  # invincible pokemon\n",
    "    player_pokemon = name\n",
    "    print(\"\\nHere're its detailed descriptions: \", player_pokemon_option)\n",
    "    pokemon_list = [name]\n",
    "\n",
    "    '''\n",
    "    Actual game: player picks pokemon; computer picks pokemon; two pokemons battle.\n",
    "    '''\n",
    "    while len(set(pokemon_list)) < 14:\n",
    "\n",
    "        enemy = computers_pokemon()\n",
    "        print(\"Your enemy is:\", enemy)\n",
    "\n",
    "        player_pokemon = pick_a_pokemon(player_pokemon_option)\n",
    "        player = Pokemon(player_pokemon, player_pokemon_option[player_pokemon]['HP'], player_pokemon_option[player_pokemon]['Experience'], player_pokemon_option[player_pokemon]['level'])\n",
    "\n",
    "        Computer = Pokemon(enemy, CHARACTERS[enemy]['HP'], CHARACTERS[enemy]['Experience'], round(CHARACTERS[enemy]['Experience'] ** (1./3.)))\n",
    "        outcome = player.battle(Computer)\n",
    "        if outcome == 'lose':\n",
    "            break\n",
    "        pokemon_list = []\n",
    "        for pokemon in player_pokemon_option:\n",
    "            pokemon_list.append(pokemon)\n",
    "    '''\n",
    "    If player won all 14 pokemons, the player win the game.\n",
    "    If player lost one pokemons, the player lose the game.\n",
    "    '''\n",
    "    if len(set(pokemon_list)) == 14:\n",
    "        print(\"YOU CAUGHT 'EM ALL!\")\n",
    "    else:\n",
    "        print(\"Your pokemon died before you caught 'em all :(\")\n",
    "        \n",
    "play_pokemon()"
   ]
  },
  {
   "cell_type": "code",
   "execution_count": 14,
   "metadata": {
    "collapsed": false
   },
   "outputs": [
    {
     "name": "stdout",
     "output_type": "stream",
     "text": [
      "{'Dewgong': {'Type': ['Water', 'Ice'], 'HP': 90, 'Moves': ['Aqua Jet', 'Ice Shard', 'Headbutt'], 'Attack': 70, 'Defense': 80, 'Speed': 70, 'Experience': 112, 'level': 5}, 'Pikachu': {'Type': ['Electric'], 'HP': 35, 'Moves': ['Thunder Shock', 'Double Kick', 'Thunderbolt'], 'Attack': 55, 'Defense': 40, 'Speed': 90, 'Experience': 0, 'level': 1}, 'Beedrill': {'Type': ['Bug', 'Poison'], 'HP': 65, 'Moves': ['Peck', 'Twineedle', 'Rage', 'Fury Attack', 'Outrage'], 'Attack': 90, 'Defense': 40, 'Speed': 75, 'Experience': 0, 'level': 1}}\n"
     ]
    }
   ],
   "source": [
    "print(player_pokemon_option)"
   ]
  },
  {
   "cell_type": "code",
   "execution_count": 20,
   "metadata": {
    "cocalc": {
     "outputs": {
      "1": {
       "name": "input",
       "opts": {
        "password": false,
        "prompt": "Which Pokemon would you like to fight with?"
       },
       "output_type": "stream",
       "value": "Bulbasaur"
      },
      "10": {
       "name": "input",
       "opts": {
        "password": false,
        "prompt": "Which attack would you like to use? ['Tackle', 'Vine Whip', 'Razor Leaf'] "
       },
       "output_type": "stream",
       "value": "Razor Leaf"
      },
      "12": {
       "name": "input",
       "opts": {
        "password": false,
        "prompt": "Would you like to consult your Pokedex to determine which move is the best? (y / n)"
       },
       "output_type": "stream",
       "value": "n"
      },
      "13": {
       "name": "input",
       "opts": {
        "password": false,
        "prompt": "Which attack would you like to use? ['Tackle', 'Vine Whip', 'Razor Leaf'] "
       },
       "output_type": "stream",
       "value": "Razor Leaf"
      },
      "15": {
       "name": "input",
       "opts": {
        "password": false,
        "prompt": "Would you like to consult your Pokedex to determine which move is the best? (y / n)"
       },
       "output_type": "stream",
       "value": "Razor Leaf"
      },
      "16": {
       "name": "input",
       "opts": {
        "password": false,
        "prompt": "Which attack would you like to use? ['Tackle', 'Vine Whip', 'Razor Leaf'] "
       },
       "output_type": "stream",
       "value": "Vine Whip"
      },
      "18": {
       "name": "input",
       "opts": {
        "password": false,
        "prompt": "Would you like to consult your Pokedex to determine which move is the best? (y / n)"
       },
       "output_type": "stream",
       "value": "n"
      },
      "19": {
       "name": "input",
       "opts": {
        "password": false,
        "prompt": "Which attack would you like to use? ['Tackle', 'Vine Whip', 'Razor Leaf'] "
       },
       "output_type": "stream",
       "value": "Tacle"
      },
      "21": {
       "name": "input",
       "opts": {
        "password": false,
        "prompt": "Which attack would you like to use? ['Tackle', 'Vine Whip', 'Razor Leaf'] "
       },
       "output_type": "stream",
       "value": "Tac"
      },
      "23": {
       "name": "input",
       "opts": {
        "password": false,
        "prompt": "Which attack would you like to use? ['Tackle', 'Vine Whip', 'Razor Leaf'] "
       },
       "output_type": "stream",
       "value": "1"
      },
      "24": {
       "name": "input",
       "opts": {
        "password": false,
        "prompt": "Which attack would you like to use? ['Tackle', 'Vine Whip', 'Razor Leaf'] "
       },
       "output_type": "stream"
      },
      "26": {
       "name": "input",
       "opts": {
        "password": false,
        "prompt": "Would you like to consult your Pokedex to determine which move is the best? (y / n)"
       },
       "output_type": "stream"
      },
      "28": {
       "name": "input",
       "opts": {
        "password": false,
        "prompt": "Which attack would you like to use? ['Tackle', 'Vine Whip', 'Razor Leaf'] "
       },
       "output_type": "stream",
       "value": "Razor Leaf"
      },
      "3": {
       "name": "input",
       "opts": {
        "password": false,
        "prompt": "Which Pokemon would you like to fight with?"
       },
       "output_type": "stream",
       "value": "Bulbasaur"
      },
      "5": {
       "name": "input",
       "opts": {
        "password": false,
        "prompt": "Would you like to consult your Pokedex to determine which move is the best? (y / n)"
       },
       "output_type": "stream",
       "value": "y"
      },
      "7": {
       "name": "input",
       "opts": {
        "password": false,
        "prompt": "Which attack would you like to use? ['Tackle', 'Vine Whip', 'Razor Leaf'] "
       },
       "output_type": "stream",
       "value": "Razor Leaf"
      },
      "8": {
       "name": "input",
       "opts": {
        "password": false,
        "prompt": "Would you like to consult your Pokedex to determine which move is the best? (y / n)"
       },
       "output_type": "stream"
      }
     }
    },
    "collapsed": false
   },
   "outputs": [
    {
     "name": "stdout",
     "output_type": "stream",
     "text": [
      "Your pokemon are: ['Bulbasaur', 'Charmander', 'Squirtle']\n"
     ]
    },
    {
     "name": "stdout",
     "output_type": "stream",
     "text": "Which Pokemon would you like to fight with? Bulbasaur"
    },
    {
     "name": "stdout",
     "output_type": "stream",
     "text": [
      "Your enemy is: Jigglypuff\n",
      "Your pokemon are: ['Bulbasaur']\n"
     ]
    },
    {
     "name": "stdout",
     "output_type": "stream",
     "text": "Which Pokemon would you like to fight with? Bulbasaur"
    },
    {
     "name": "stdout",
     "output_type": "stream",
     "text": [
      "Your hitpoints: 45, Computer's hitpoints: 115\n",
      "Your speed: 45, Computer's speed: 20\n",
      "You attack first!\n",
      "\n",
      "-----Your turn to attack!-----\n"
     ]
    },
    {
     "name": "stdout",
     "output_type": "stream",
     "text": "Would you like to consult your Pokedex to determine which move is the best? (y / n) y"
    },
    {
     "name": "stdout",
     "output_type": "stream",
     "text": [
      "attack option: Tackle \tdamage: 4.32 \tThis attack is super effective against: ['N/A'] and not very effective against ['Rock', 'Steel']\n",
      "attack option: Vine Whip \tdamage: 4.86 \tThis attack is super effective against: ['Water', 'Ground', 'Rock'] and not very effective against ['Fire', 'Grass', 'Poison', 'Flying', 'Bug', 'Dragon', 'Steel']\n",
      "attack option: Razor Leaf \tdamage: 5.94 \tThis attack is super effective against: ['Water', 'Ground', 'Rock'] and not very effective against ['Fire', 'Grass', 'Poison', 'Flying', 'Bug', 'Dragon', 'Steel']\n"
     ]
    },
    {
     "name": "stdout",
     "output_type": "stream",
     "text": "Which attack would you like to use? ['Tackle', 'Vine Whip', 'Razor Leaf']  Razor Leaf"
    },
    {
     "name": "stdout",
     "output_type": "stream",
     "text": "Would you like to consult your Pokedex to determine which move is the best? (y / n) "
    },
    {
     "name": "stdout",
     "output_type": "stream",
     "text": [
      "Remaining HP: computer 109.5946, you 45\n",
      "\n",
      "-----Opponent is attacking!-----\n",
      "attack option: Pound \tdamage: 3.20 \tThis attack is super effective against: ['N/A'] and not very effective against ['Rock', 'Steel']\n",
      "attack option: Body Slam \tdamage: 6.80 \tThis attack is super effective against: ['N/A'] and not very effective against ['Rock', 'Steel']\n",
      "attack option: Double Slap \tdamage: 1.20 \tThis attack is super effective against: ['N/A'] and not very effective against ['Rock', 'Steel']\n",
      "\n",
      "Computer uses Body Slam!\n",
      "\n",
      "Remaining HP: computer 109.5946, you 38.676\n",
      "\n",
      "-----Your turn to attack!-----\n"
     ],
     "value": "n"
    },
    {
     "name": "stdout",
     "output_type": "stream",
     "text": "Which attack would you like to use? ['Tackle', 'Vine Whip', 'Razor Leaf']  Razor Leaf"
    },
    {
     "name": "stdout",
     "output_type": "stream",
     "text": [
      "Remaining HP: computer 104.3674, you 38.676\n",
      "\n",
      "-----Opponent is attacking!-----\n",
      "attack option: Pound \tdamage: 3.20 \tThis attack is super effective against: ['N/A'] and not very effective against ['Rock', 'Steel']\n",
      "attack option: Body Slam \tdamage: 6.80 \tThis attack is super effective against: ['N/A'] and not very effective against ['Rock', 'Steel']\n",
      "attack option: Double Slap \tdamage: 1.20 \tThis attack is super effective against: ['N/A'] and not very effective against ['Rock', 'Steel']\n",
      "\n",
      "Computer uses Body Slam!\n",
      "\n",
      "Remaining HP: computer 104.3674, you 32.828\n",
      "\n",
      "-----Your turn to attack!-----\n"
     ]
    },
    {
     "name": "stdout",
     "output_type": "stream",
     "text": "Would you like to consult your Pokedex to determine which move is the best? (y / n) n"
    },
    {
     "name": "stdout",
     "output_type": "stream",
     "text": "Which attack would you like to use? ['Tackle', 'Vine Whip', 'Razor Leaf']  Razor Leaf"
    },
    {
     "name": "stdout",
     "output_type": "stream",
     "text": [
      "Remaining HP: computer 98.60560000000001, you 32.828\n",
      "\n",
      "-----Opponent is attacking!-----\n",
      "attack option: Pound \tdamage: 3.20 \tThis attack is super effective against: ['N/A'] and not very effective against ['Rock', 'Steel']\n",
      "attack option: Body Slam \tdamage: 6.80 \tThis attack is super effective against: ['N/A'] and not very effective against ['Rock', 'Steel']\n",
      "attack option: Double Slap \tdamage: 1.20 \tThis attack is super effective against: ['N/A'] and not very effective against ['Rock', 'Steel']\n",
      "\n",
      "Computer uses Body Slam!\n",
      "\n",
      "Remaining HP: computer 98.60560000000001, you 26.436000000000003\n",
      "\n",
      "-----Your turn to attack!-----\n"
     ]
    },
    {
     "name": "stdout",
     "output_type": "stream",
     "text": "Would you like to consult your Pokedex to determine which move is the best? (y / n) Razor Leaf"
    },
    {
     "name": "stdout",
     "output_type": "stream",
     "text": "Which attack would you like to use? ['Tackle', 'Vine Whip', 'Razor Leaf']  Vine Whip"
    },
    {
     "name": "stdout",
     "output_type": "stream",
     "text": [
      "Remaining HP: computer 94.32880000000002, you 26.436000000000003\n",
      "\n",
      "-----Opponent is attacking!-----\n",
      "attack option: Pound \tdamage: 3.20 \tThis attack is super effective against: ['N/A'] and not very effective against ['Rock', 'Steel']\n",
      "attack option: Body Slam \tdamage: 6.80 \tThis attack is super effective against: ['N/A'] and not very effective against ['Rock', 'Steel']\n",
      "attack option: Double Slap \tdamage: 1.20 \tThis attack is super effective against: ['N/A'] and not very effective against ['Rock', 'Steel']\n",
      "\n",
      "Computer uses Body Slam!\n",
      "\n",
      "Remaining HP: computer 94.32880000000002, you 19.636000000000003\n",
      "\n",
      "-----Your turn to attack!-----\n"
     ]
    },
    {
     "name": "stdout",
     "output_type": "stream",
     "text": "Would you like to consult your Pokedex to determine which move is the best? (y / n) n"
    },
    {
     "name": "stdout",
     "output_type": "stream",
     "text": "Which attack would you like to use? ['Tackle', 'Vine Whip', 'Razor Leaf']  Tacle"
    },
    {
     "name": "stdout",
     "output_type": "stream",
     "text": [
      "That's not a valid move for Bulbasaur!\n"
     ]
    },
    {
     "name": "stdout",
     "output_type": "stream",
     "text": "Which attack would you like to use? ['Tackle', 'Vine Whip', 'Razor Leaf']  Tac"
    },
    {
     "name": "stdout",
     "output_type": "stream",
     "text": [
      "That's not a valid move for Bulbasaur!\n"
     ]
    },
    {
     "name": "stdout",
     "output_type": "stream",
     "text": "Which attack would you like to use? ['Tackle', 'Vine Whip', 'Razor Leaf']  1"
    },
    {
     "name": "stdout",
     "output_type": "stream",
     "text": "Which attack would you like to use? ['Tackle', 'Vine Whip', 'Razor Leaf']  "
    },
    {
     "name": "stdout",
     "output_type": "stream",
     "text": [
      "That's not a valid move for Bulbasaur!\n"
     ],
     "value": "Tackle"
    },
    {
     "name": "stdout",
     "output_type": "stream",
     "text": "Would you like to consult your Pokedex to determine which move is the best? (y / n) "
    },
    {
     "name": "stdout",
     "output_type": "stream",
     "text": [
      "Remaining HP: computer 90.09520000000002, you 19.636000000000003\n",
      "\n",
      "-----Opponent is attacking!-----\n",
      "attack option: Pound \tdamage: 3.20 \tThis attack is super effective against: ['N/A'] and not very effective against ['Rock', 'Steel']\n",
      "attack option: Body Slam \tdamage: 6.80 \tThis attack is super effective against: ['N/A'] and not very effective against ['Rock', 'Steel']\n",
      "attack option: Double Slap \tdamage: 1.20 \tThis attack is super effective against: ['N/A'] and not very effective against ['Rock', 'Steel']\n",
      "\n",
      "Computer uses Body Slam!\n",
      "\n",
      "Remaining HP: computer 90.09520000000002, you 13.244000000000003\n",
      "\n",
      "-----Your turn to attack!-----\n"
     ],
     "value": "n"
    },
    {
     "name": "stdout",
     "output_type": "stream",
     "text": "Which attack would you like to use? ['Tackle', 'Vine Whip', 'Razor Leaf']  Razor Leaf"
    },
    {
     "name": "stdout",
     "output_type": "stream",
     "text": [
      "Remaining HP: computer 84.68980000000002, you 13.244000000000003\n",
      "\n",
      "-----Opponent is attacking!-----\n",
      "attack option: Pound \tdamage: 3.20 \tThis attack is super effective against: ['N/A'] and not very effective against ['Rock', 'Steel']\n",
      "attack option: Body Slam \tdamage: 6.80 \tThis attack is super effective against: ['N/A'] and not very effective against ['Rock', 'Steel']\n",
      "attack option: Double Slap \tdamage: 1.20 \tThis attack is super effective against: ['N/A'] and not very effective against ['Rock', 'Steel']\n",
      "\n",
      "Computer uses Body Slam!\n",
      "\n",
      "Critical Hit!\n",
      "Remaining HP: computer 84.68980000000002, you -0.3559999999999963\n",
      "Uh oh! You just got knocked out by Jigglypuff!\n",
      "Your pokemon died before you caught 'em all :(\n"
     ]
    }
   ],
   "source": [
    "# Linted, working, final version\n",
    "# Run cells above instructions first\n",
    "import random as rand\n",
    "\n",
    "\n",
    "class Pokemon:\n",
    "    '''Create a pokemon class'''\n",
    "    def __init__(self, character, HP, experience, level):\n",
    "        self.character = character\n",
    "        self.HP = HP\n",
    "        self.experience = experience\n",
    "        self.level = level\n",
    "\n",
    "    def battle(self, opponent, player_pokemon_option):\n",
    "        '''This method carries out the battle between two pokemon classes'''\n",
    "        print(f\"Your hitpoints: {self.HP}, \" +\n",
    "              f\"Computer's hitpoints: {opponent.HP}\")\n",
    "        print(f\"Your speed: {CHARACTERS[self.character]['Speed']}, \" +\n",
    "              f\"Computer's speed: {CHARACTERS[opponent.character]['Speed']}\")\n",
    "        '''\n",
    "        determines which side attacks first basing on speed\n",
    "        '''\n",
    "        opponent_spd = CHARACTERS[opponent.character]['Speed']\n",
    "        your_spd = CHARACTERS[self.character]['Speed']\n",
    "        '''\n",
    "        two sides attack alternatively\n",
    "        '''\n",
    "        if opponent_spd > your_spd:\n",
    "            print('Computer attacks first!')\n",
    "            while self.HP > 0 and opponent.HP > 0:\n",
    "                opponent.computer_attack(self)\n",
    "                if self.HP > 0:\n",
    "                    # ensures you can't attack after your pokemon faints\n",
    "                    self.player_attack(opponent)\n",
    "        else:\n",
    "            print('You attack first!')\n",
    "            while self.HP > 0 and opponent.HP > 0:\n",
    "                self.player_attack(opponent)\n",
    "                if opponent.HP > 0:\n",
    "                    opponent.computer_attack(self)\n",
    "        '''\n",
    "        Player wins. Add opponent pokemon's experience to player pokemon.\n",
    "        Update player pokemon's level. The player gains the initialized\n",
    "        opponent's pokemon (Experience = 0) as well.\n",
    "        '''\n",
    "        if opponent.HP <= 0:\n",
    "            print(f'Congratulations! You just knocked ' +\n",
    "                  f'out {opponent.character}!')\n",
    "            player_pokemon_option[enemy] = CHARACTERS[enemy]\n",
    "            enemy_exp = CHARACTERS[enemy][\"Experience\"]\n",
    "            player_pokemon_option[player_pokemon]['Experience'] += enemy_exp\n",
    "            your_exp = player_pokemon_option[player_pokemon]['Experience']\n",
    "            player_pokemon_option[player_pokemon]['level'] = self.update_level(your_exp)\n",
    "            player_pokemon_option[enemy]['Experience'] = 0\n",
    "            player_pokemon_option[enemy]['level'] = 1\n",
    "            print(f'Your pokemon, {self.character}, just ' +\n",
    "                  'gained {opponent.experience} experience points!')\n",
    "            return player_pokemon_option, 'win'\n",
    "        '''\n",
    "        Computer wins. The player will not have access to the lost pokemon.\n",
    "        '''\n",
    "        if self.HP <= 0:\n",
    "            print(f'Uh oh! You just got knocked out by {opponent.character}!')\n",
    "            del player_pokemon_option[self.character]\n",
    "            return player_pokemon_option, 'lose'\n",
    "\n",
    "    def player_attack(self, opponent):\n",
    "        '''This method carries out the players attack.'''\n",
    "        print('\\n-----Your turn to attack!-----')\n",
    "        pokedex = input('Would you like to consult your Pokedex to ' +\n",
    "                        'determine which move is the best? (y / n)')\n",
    "        if pokedex.lower() == 'y':\n",
    "            self.best_attack(CHARACTERS[self.character]['Moves'], opponent)\n",
    "        attack = input(f'Which attack would you like to use? ' +\n",
    "                       f'{CHARACTERS[self.character][\"Moves\"]} ').title()\n",
    "        while attack not in CHARACTERS[self.character]['Moves']:\n",
    "            print(f\"That's not a valid move for {self.character}!\")\n",
    "            attack = input(f'Which attack would you like to use? ' +\n",
    "                           f'{CHARACTERS[self.character][\"Moves\"]} ').title()\n",
    "        opponent.HP -= self.calculate_damage(self, attack, opponent, True)\n",
    "        print(f'Remaining HP: computer {opponent.HP}, you {self.HP}')\n",
    "\n",
    "    def computer_attack(self, opponent):\n",
    "        '''Carries out the computers attack - always the best move'''\n",
    "        print('\\n-----Opponent is attacking!-----')\n",
    "        attack = self.best_attack(CHARACTERS[self.character]['Moves'],\n",
    "                                  opponent)\n",
    "        print(f'\\nComputer uses {attack}!\\n')\n",
    "        opponent.HP -= self.calculate_damage(self, attack, opponent, True)\n",
    "        print(f'Remaining HP: computer {self.HP}, you {opponent.HP}')\n",
    "\n",
    "    def best_attack(self, moves, opponent):\n",
    "        '''Takes in possible moves and opponent to find best option'''\n",
    "        best_damage = 0\n",
    "        for move in moves:\n",
    "            # this for loop checks to determine which attack\n",
    "            # the computer can make will be the best\n",
    "            damage = self.calculate_damage(self, move, opponent, False)\n",
    "#             False means no critical hits nad no random modifier\n",
    "            if damage > best_damage:\n",
    "                bestest_attack = move\n",
    "                best_damage = damage\n",
    "            print(f'attack option: {move} \\tdamage: {damage:.2f} ' +\n",
    "                  f'\\tThis attack is super effective against: ' +\n",
    "                  f'{MOVES_DICTIONARY[move][\"super effective against\"]} ' +\n",
    "                  f'and not very effective against ' +\n",
    "                  f'{MOVES_DICTIONARY[move][\"not very effective against\"]}')\n",
    "        return bestest_attack\n",
    "\n",
    "    def calculate_damage(self, attacker, attack, defender, need_random):\n",
    "        '''Calculates the damage done based on attacker, attack, and defender.\n",
    "        There is also an option to take out the random number generation\n",
    "        (to determine best attack for computer and pokedex)'''\n",
    "        crit = 1\n",
    "        if need_random:\n",
    "            # need_random IS TRUE FOR ALL BATTLES, FALSE FOR DETERMINING\n",
    "            # COMPUTER'S BEST ATTACK OPTION\n",
    "            num = rand.randint(85, 100) / 100  # randint is inclusive\n",
    "            if rand.randint(1, 512) <= CHARACTERS[attacker.character]['Speed']:\n",
    "                crit = 2\n",
    "                print('Critical Hit!')\n",
    "        else:\n",
    "            num = 1\n",
    "        effective = 1\n",
    "        for d_type in CHARACTERS[defender.character]['Type']:\n",
    "            if d_type in MOVES_DICTIONARY[attack]['super effective against']:\n",
    "                effective *= 2\n",
    "            if d_type in MOVES_DICTIONARY[attack]['not very ' +\n",
    "                                                  'effective against']:\n",
    "                effective /= 2\n",
    "        modifier = num * crit * effective\n",
    "        # the next few lines put the information together to\n",
    "        # calculate the damage\n",
    "        damage = (2 / 5 * attacker.level + 2) * POWERS[attack]\n",
    "        damage *= CHARACTERS[defender.character]['Attack']\n",
    "        damage /= CHARACTERS[defender.character]['Defense']\n",
    "        return damage * modifier / 50\n",
    "\n",
    "    def update_level(self, experience):\n",
    "        self.level = round(experience ** (1./3.))\n",
    "        return self.level\n",
    "\n",
    "    def __str__(self):\n",
    "        return f\"{CHARACTERS[self.character]['Type']} is a Pokemon. \"\n",
    "\n",
    "\n",
    "def pick_a_pokemon(pokemon_options):\n",
    "    name_options = []\n",
    "    for char in pokemon_options:\n",
    "        name_options.append(char)\n",
    "    print(\"Your pokemon are:\", name_options)\n",
    "    name = input('Which Pokemon would you like to fight with?').title()\n",
    "    while name not in name_options:\n",
    "        print(name, 'is not one of the valid pokemons.')\n",
    "        name = input(f'Which Pokemon would you like to ' +\n",
    "                     f'be? {name_options}').title()\n",
    "    return name\n",
    "\n",
    "\n",
    "def computers_pokemon():\n",
    "    '''randomly select computer's character from the fourteen characters'''\n",
    "    computer_characters = []\n",
    "    for name in CHARACTERS:\n",
    "        computer_characters.append(name)\n",
    "    enemy = rand.choice(computer_characters)\n",
    "    return enemy\n",
    "\n",
    "\n",
    "def play_pokemon():\n",
    "    # player picks the first pokemon\n",
    "    starting_pokemon_options = ['Bulbasaur', 'Charmander', 'Squirtle']\n",
    "    name = pick_a_pokemon(starting_pokemon_options)\n",
    "    player_pokemon_option = {}\n",
    "    player_pokemon_option[name] = CHARACTERS[name]\n",
    "    player_pokemon_option[name]['Experience'] = 0\n",
    "    player_pokemon_option[name]['level'] = 1\n",
    "    player_pokemon = name\n",
    "\n",
    "#     print(\"\\nHere're its detailed descriptions: \", player_pokemon_option)\n",
    "\n",
    "    pokemon_list = [name]\n",
    "    while len(set(pokemon_list)) < 14:  # until you've caught 'em all\n",
    "        enemy = computers_pokemon()\n",
    "        print(\"Your enemy is:\", enemy)\n",
    "        # the player know the pokemon they are fighting and then picks\n",
    "        player_pokemon = pick_a_pokemon(player_pokemon_option)\n",
    "        player = Pokemon(player_pokemon,\n",
    "                         player_pokemon_option[player_pokemon]['HP'],\n",
    "                         player_pokemon_option[player_pokemon]['Experience'],\n",
    "                         player_pokemon_option[player_pokemon]['level'])\n",
    "        Computer = Pokemon(enemy, CHARACTERS[enemy]['HP'],\n",
    "                           CHARACTERS[enemy]['Experience'],\n",
    "                           round(CHARACTERS[enemy]['Experience'] ** (1./3.)))\n",
    "        player_pokemon_option, outcome = player.battle(Computer, player_pokemon_option)\n",
    "        if outcome == 'lose':\n",
    "            break\n",
    "        pokemon_list = []\n",
    "        for pokemon in player_pokemon_option:\n",
    "            pokemon_list.append(pokemon)\n",
    "\n",
    "    if len(set(pokemon_list)) == 14:\n",
    "        print(\"YOU CAUGHT 'EM ALL!\")\n",
    "    else:\n",
    "        print(\"Your pokemon died before you caught 'em all :(\")\n",
    "\n",
    "\n",
    "if __name__ == '__main__':\n",
    "    play_pokemon()"
   ]
  },
  {
   "cell_type": "markdown",
   "metadata": {
    "collapsed": false
   },
   "source": [
    "Alexa, Henry, Zhiyin\n",
    "\n",
    "### Does it Work / Does it Break ### -0\n",
    "At first I thought I'd have to deduct a lot here because it kept breaking ... then I found a new version that broke less ... then I found a new newer version that broke even less ... then I found the final version that didn't break at all!  I feel like I got to experience some of the struggles you went through during development I saw the errors get taken on and defeated.\n",
    "\n",
    "On the newest new version I tried to break the game on all the input boxes, but you expected that and caught those issues without having the game break. Nice job.\n",
    "\n",
    "### User Interface ### -0\n",
    "Pretty straight forward text based game engine.\n",
    "\n",
    "I would have liked the liked the option to enter [1] [2] or [3] instead of having to type the names of which Character I was using or which attack I was using. I guess there is the advantage of this as players learn the characters and how to spell them better than if you just entered 1, 2, 3, etc.\n",
    "\n",
    "Game play stuff is subjective so you get full points here because I could follow your directions and the character selection and battle flowed well and was easy to follow and understand.  Even though I couldn't beat any Pokémon!\n",
    "\n",
    "### Code Style ### -0\n",
    "Excellent!\n",
    "One note for dealing with long text strings. You did this:\n",
    "\n",
    "print(f\"\\nRight! So your name is {name}. Your very own POKEMON legend \" +\n",
    "          f\"is about to unfold! A world of dreams and adventures with POKEMON \" +\n",
    "          f\"awaits! Let's go!\\n\")\n",
    "\n",
    "You could use the backslash \\ to 'escape' the newline character when you want wrap it, like this:\n",
    "\n",
    "print(f\"\\nRight! So your name is {name}. Your very own POKEMON legend \\\n",
    "          is about to unfold! A world of dreams and adventures with POKEMON \\\n",
    "          awaits! Let's go!\\n\")\n",
    "\n",
    "I think this is easier and probably more common practice.\n",
    "\n",
    "### Documentation, Docstrings and Commenting ### -0\n",
    "Your doc strings are clear and descriptive for your methods and functions. Your commenting style is genuine and does what good comments SHOULD do, which is clear explain the key idea of what a section of code is doing.  These comments are useful to the coder who wrote them, but this style is also useful to collaborators and others reading the code.  This will make things easier for everyone when working on larger, more collaborative projects.\n",
    "\n",
    "Nice work on this Project, Alexa, Henry and Zhiyin!\n",
    "100/100"
   ]
  },
  {
   "cell_type": "code",
   "execution_count": 0,
   "metadata": {
    "collapsed": false
   },
   "outputs": [
   ],
   "source": [
   ]
  }
 ],
 "metadata": {
  "kernelspec": {
   "display_name": "Python 3 (Anaconda 5)",
   "env": {
    "LD_LIBRARY_PATH": "/ext/anaconda5/lib",
    "PYTHONHOME": "/ext/anaconda5/lib/python3.5",
    "PYTHONPATH": "/ext/anaconda5/lib/python3.5:/ext/anaconda5/lib/python3.5/site-packages"
   },
   "language": "python",
   "metadata": {
    "cocalc": {
     "description": "Python/R distribution for data science",
     "priority": 5,
     "url": "https://www.anaconda.com/distribution/"
    }
   },
   "name": "anaconda5"
  },
  "language_info": {
   "codemirror_mode": {
    "name": "ipython",
    "version": 3
   },
   "file_extension": ".py",
   "mimetype": "text/x-python",
   "name": "python",
   "nbconvert_exporter": "python",
   "pygments_lexer": "ipython3",
   "version": "3.6.7"
  }
 },
 "nbformat": 4,
 "nbformat_minor": 0
}